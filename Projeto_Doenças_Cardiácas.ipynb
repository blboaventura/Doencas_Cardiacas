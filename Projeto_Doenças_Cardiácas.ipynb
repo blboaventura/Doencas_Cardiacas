{
  "nbformat": 4,
  "nbformat_minor": 0,
  "metadata": {
    "colab": {
      "name": "Projeto_Doenças_Cardiácas.ipynb",
      "provenance": [],
      "collapsed_sections": [],
      "toc_visible": true
    },
    "kernelspec": {
      "name": "python3",
      "display_name": "Python 3"
    },
    "widgets": {
      "application/vnd.jupyter.widget-state+json": {
        "bce47470a3e449a2a565ce6e348c0947": {
          "model_module": "@jupyter-widgets/controls",
          "model_name": "HBoxModel",
          "state": {
            "_view_name": "HBoxView",
            "_dom_classes": [],
            "_model_name": "HBoxModel",
            "_view_module": "@jupyter-widgets/controls",
            "_model_module_version": "1.5.0",
            "_view_count": null,
            "_view_module_version": "1.5.0",
            "box_style": "",
            "layout": "IPY_MODEL_eeb9c002da304690a32b0db58c4fc6ce",
            "_model_module": "@jupyter-widgets/controls",
            "children": [
              "IPY_MODEL_7679beeadf8e48989b515d531e6213ca",
              "IPY_MODEL_47f1601c32f44642ac1ddc17da0a1423"
            ]
          }
        },
        "eeb9c002da304690a32b0db58c4fc6ce": {
          "model_module": "@jupyter-widgets/base",
          "model_name": "LayoutModel",
          "state": {
            "_view_name": "LayoutView",
            "grid_template_rows": null,
            "right": null,
            "justify_content": null,
            "_view_module": "@jupyter-widgets/base",
            "overflow": null,
            "_model_module_version": "1.2.0",
            "_view_count": null,
            "flex_flow": null,
            "width": null,
            "min_width": null,
            "border": null,
            "align_items": null,
            "bottom": null,
            "_model_module": "@jupyter-widgets/base",
            "top": null,
            "grid_column": null,
            "overflow_y": null,
            "overflow_x": null,
            "grid_auto_flow": null,
            "grid_area": null,
            "grid_template_columns": null,
            "flex": null,
            "_model_name": "LayoutModel",
            "justify_items": null,
            "grid_row": null,
            "max_height": null,
            "align_content": null,
            "visibility": null,
            "align_self": null,
            "height": null,
            "min_height": null,
            "padding": null,
            "grid_auto_rows": null,
            "grid_gap": null,
            "max_width": null,
            "order": null,
            "_view_module_version": "1.2.0",
            "grid_template_areas": null,
            "object_position": null,
            "object_fit": null,
            "grid_auto_columns": null,
            "margin": null,
            "display": null,
            "left": null
          }
        },
        "7679beeadf8e48989b515d531e6213ca": {
          "model_module": "@jupyter-widgets/controls",
          "model_name": "VBoxModel",
          "state": {
            "_view_name": "VBoxView",
            "_dom_classes": [],
            "_model_name": "VBoxModel",
            "_view_module": "@jupyter-widgets/controls",
            "_model_module_version": "1.5.0",
            "_view_count": null,
            "_view_module_version": "1.5.0",
            "box_style": "",
            "layout": "IPY_MODEL_1cf6cb237905453b8089cfbfa3fe4354",
            "_model_module": "@jupyter-widgets/controls",
            "children": [
              "IPY_MODEL_ba0142f98e164dbe9f03a4a5e95827db",
              "IPY_MODEL_b43a5eda4fa84902b642c8e5912ec9db",
              "IPY_MODEL_2d2a7a48362846e0a015becf1963eae0",
              "IPY_MODEL_9e45665342774f85894f79ec1a55a6f1",
              "IPY_MODEL_914032a546ee48d4a6e21bad749a878d",
              "IPY_MODEL_c20d289e6c6f4d66b7fa85c0b03e4922",
              "IPY_MODEL_75018fc5f23846f5bdc144fe91a394ab"
            ]
          }
        },
        "47f1601c32f44642ac1ddc17da0a1423": {
          "model_module": "@jupyter-widgets/controls",
          "model_name": "VBoxModel",
          "state": {
            "_view_name": "VBoxView",
            "_dom_classes": [],
            "_model_name": "VBoxModel",
            "_view_module": "@jupyter-widgets/controls",
            "_model_module_version": "1.5.0",
            "_view_count": null,
            "_view_module_version": "1.5.0",
            "box_style": "",
            "layout": "IPY_MODEL_91e538d27ac94aef9e6261bb4faa2ed7",
            "_model_module": "@jupyter-widgets/controls",
            "children": [
              "IPY_MODEL_57cddbc1bf4d4c6eb86e8ff933f95ecb",
              "IPY_MODEL_d01adf0b334543d8919f16d39660f373",
              "IPY_MODEL_a64c5c532b0d44d9a46acb4dce80d2c1",
              "IPY_MODEL_d6b4af3f1dc44ba094386bff6ca1b187",
              "IPY_MODEL_eafcb43c3a8b423baf4f3da3d10fb339"
            ]
          }
        },
        "1cf6cb237905453b8089cfbfa3fe4354": {
          "model_module": "@jupyter-widgets/base",
          "model_name": "LayoutModel",
          "state": {
            "_view_name": "LayoutView",
            "grid_template_rows": null,
            "right": null,
            "justify_content": null,
            "_view_module": "@jupyter-widgets/base",
            "overflow": null,
            "_model_module_version": "1.2.0",
            "_view_count": null,
            "flex_flow": null,
            "width": "50%",
            "min_width": null,
            "border": null,
            "align_items": null,
            "bottom": null,
            "_model_module": "@jupyter-widgets/base",
            "top": null,
            "grid_column": null,
            "overflow_y": null,
            "overflow_x": null,
            "grid_auto_flow": null,
            "grid_area": null,
            "grid_template_columns": null,
            "flex": null,
            "_model_name": "LayoutModel",
            "justify_items": null,
            "grid_row": null,
            "max_height": null,
            "align_content": null,
            "visibility": null,
            "align_self": null,
            "height": null,
            "min_height": null,
            "padding": null,
            "grid_auto_rows": null,
            "grid_gap": null,
            "max_width": null,
            "order": null,
            "_view_module_version": "1.2.0",
            "grid_template_areas": null,
            "object_position": null,
            "object_fit": null,
            "grid_auto_columns": null,
            "margin": null,
            "display": null,
            "left": null
          }
        },
        "ba0142f98e164dbe9f03a4a5e95827db": {
          "model_module": "@jupyter-widgets/controls",
          "model_name": "TextModel",
          "state": {
            "_view_name": "TextView",
            "style": "IPY_MODEL_d2039000b8fc4c6da0ec9a15e300743e",
            "_dom_classes": [],
            "description": "Idade (anos):",
            "_model_name": "TextModel",
            "placeholder": "​",
            "_view_module": "@jupyter-widgets/controls",
            "_model_module_version": "1.5.0",
            "value": "",
            "_view_count": null,
            "disabled": false,
            "_view_module_version": "1.5.0",
            "continuous_update": true,
            "description_tooltip": null,
            "_model_module": "@jupyter-widgets/controls",
            "layout": "IPY_MODEL_8a33d1686d734e9ea85ba289bf140f31"
          }
        },
        "b43a5eda4fa84902b642c8e5912ec9db": {
          "model_module": "@jupyter-widgets/controls",
          "model_name": "TextModel",
          "state": {
            "_view_name": "TextView",
            "style": "IPY_MODEL_a53d88b279f84a8986ac08dc4db4c6ef",
            "_dom_classes": [],
            "description": "Pressão arterial (mm/Hg):",
            "_model_name": "TextModel",
            "placeholder": "​",
            "_view_module": "@jupyter-widgets/controls",
            "_model_module_version": "1.5.0",
            "value": "",
            "_view_count": null,
            "disabled": false,
            "_view_module_version": "1.5.0",
            "continuous_update": true,
            "description_tooltip": null,
            "_model_module": "@jupyter-widgets/controls",
            "layout": "IPY_MODEL_7f2df7fdf94e4e678c51f58ec740ec18"
          }
        },
        "2d2a7a48362846e0a015becf1963eae0": {
          "model_module": "@jupyter-widgets/controls",
          "model_name": "TextModel",
          "state": {
            "_view_name": "TextView",
            "style": "IPY_MODEL_7797ffbeef094a668f9bf4cf7c7e3b2c",
            "_dom_classes": [],
            "description": "Colesterol (mg/dl):",
            "_model_name": "TextModel",
            "placeholder": "​",
            "_view_module": "@jupyter-widgets/controls",
            "_model_module_version": "1.5.0",
            "value": "",
            "_view_count": null,
            "disabled": false,
            "_view_module_version": "1.5.0",
            "continuous_update": true,
            "description_tooltip": null,
            "_model_module": "@jupyter-widgets/controls",
            "layout": "IPY_MODEL_cf8c476da21a4c27ab81ac984e2acb59"
          }
        },
        "9e45665342774f85894f79ec1a55a6f1": {
          "model_module": "@jupyter-widgets/controls",
          "model_name": "TextModel",
          "state": {
            "_view_name": "TextView",
            "style": "IPY_MODEL_3659139c18cf4220900e23faacaa173b",
            "_dom_classes": [],
            "description": "Frequência cardíaca (bpm):",
            "_model_name": "TextModel",
            "placeholder": "​",
            "_view_module": "@jupyter-widgets/controls",
            "_model_module_version": "1.5.0",
            "value": "",
            "_view_count": null,
            "disabled": false,
            "_view_module_version": "1.5.0",
            "continuous_update": true,
            "description_tooltip": null,
            "_model_module": "@jupyter-widgets/controls",
            "layout": "IPY_MODEL_2a6287d8eb884cedaa28d91c1986e0c4"
          }
        },
        "914032a546ee48d4a6e21bad749a878d": {
          "model_module": "@jupyter-widgets/controls",
          "model_name": "TextModel",
          "state": {
            "_view_name": "TextView",
            "style": "IPY_MODEL_a5dc4373f7234742934981963566b573",
            "_dom_classes": [],
            "description": "Depressão do Segmento ST (mm):",
            "_model_name": "TextModel",
            "placeholder": "​",
            "_view_module": "@jupyter-widgets/controls",
            "_model_module_version": "1.5.0",
            "value": "",
            "_view_count": null,
            "disabled": false,
            "_view_module_version": "1.5.0",
            "continuous_update": true,
            "description_tooltip": null,
            "_model_module": "@jupyter-widgets/controls",
            "layout": "IPY_MODEL_ae35af57caab49bf9d3cc0f60a62ba82"
          }
        },
        "c20d289e6c6f4d66b7fa85c0b03e4922": {
          "model_module": "@jupyter-widgets/controls",
          "model_name": "TextModel",
          "state": {
            "_view_name": "TextView",
            "style": "IPY_MODEL_f107b95af22f4694949564168d838fbb",
            "_dom_classes": [],
            "description": "Vasos color. por fluoroscopia (quant.):",
            "_model_name": "TextModel",
            "placeholder": "​",
            "_view_module": "@jupyter-widgets/controls",
            "_model_module_version": "1.5.0",
            "value": "",
            "_view_count": null,
            "disabled": false,
            "_view_module_version": "1.5.0",
            "continuous_update": true,
            "description_tooltip": null,
            "_model_module": "@jupyter-widgets/controls",
            "layout": "IPY_MODEL_7b3ca34cbe1044588459b0e241fd2d84"
          }
        },
        "75018fc5f23846f5bdc144fe91a394ab": {
          "model_module": "@jupyter-widgets/controls",
          "model_name": "RadioButtonsModel",
          "state": {
            "_options_labels": [
              "Ascendente",
              "Plana",
              "Descendente"
            ],
            "_view_name": "RadioButtonsView",
            "style": "IPY_MODEL_4d03250ea44348d09eb0eb18c95f440b",
            "_dom_classes": [],
            "description": "Inclinação do segmento ST-T:",
            "_model_name": "RadioButtonsModel",
            "index": 0,
            "_view_module": "@jupyter-widgets/controls",
            "_model_module_version": "1.5.0",
            "_view_count": null,
            "disabled": false,
            "_view_module_version": "1.5.0",
            "description_tooltip": null,
            "_model_module": "@jupyter-widgets/controls",
            "layout": "IPY_MODEL_c96eca8016af4ca1ae7d53d5022bf979"
          }
        },
        "91e538d27ac94aef9e6261bb4faa2ed7": {
          "model_module": "@jupyter-widgets/base",
          "model_name": "LayoutModel",
          "state": {
            "_view_name": "LayoutView",
            "grid_template_rows": null,
            "right": null,
            "justify_content": null,
            "_view_module": "@jupyter-widgets/base",
            "overflow": null,
            "_model_module_version": "1.2.0",
            "_view_count": null,
            "flex_flow": null,
            "width": null,
            "min_width": null,
            "border": null,
            "align_items": null,
            "bottom": null,
            "_model_module": "@jupyter-widgets/base",
            "top": null,
            "grid_column": null,
            "overflow_y": null,
            "overflow_x": null,
            "grid_auto_flow": null,
            "grid_area": null,
            "grid_template_columns": null,
            "flex": null,
            "_model_name": "LayoutModel",
            "justify_items": null,
            "grid_row": null,
            "max_height": null,
            "align_content": null,
            "visibility": null,
            "align_self": null,
            "height": null,
            "min_height": null,
            "padding": null,
            "grid_auto_rows": null,
            "grid_gap": null,
            "max_width": null,
            "order": null,
            "_view_module_version": "1.2.0",
            "grid_template_areas": null,
            "object_position": null,
            "object_fit": null,
            "grid_auto_columns": null,
            "margin": null,
            "display": null,
            "left": null
          }
        },
        "57cddbc1bf4d4c6eb86e8ff933f95ecb": {
          "model_module": "@jupyter-widgets/controls",
          "model_name": "RadioButtonsModel",
          "state": {
            "_options_labels": [
              "Homem",
              "Mulher"
            ],
            "_view_name": "RadioButtonsView",
            "style": "IPY_MODEL_d629ba5874204de698942bb6685a83d5",
            "_dom_classes": [],
            "description": "Sexo:",
            "_model_name": "RadioButtonsModel",
            "index": 0,
            "_view_module": "@jupyter-widgets/controls",
            "_model_module_version": "1.5.0",
            "_view_count": null,
            "disabled": false,
            "_view_module_version": "1.5.0",
            "description_tooltip": null,
            "_model_module": "@jupyter-widgets/controls",
            "layout": "IPY_MODEL_f814fe4204424e779d0d1f961edd8a2c"
          }
        },
        "d01adf0b334543d8919f16d39660f373": {
          "model_module": "@jupyter-widgets/controls",
          "model_name": "RadioButtonsModel",
          "state": {
            "_options_labels": [
              "Não",
              "Sim"
            ],
            "_view_name": "RadioButtonsView",
            "style": "IPY_MODEL_4349c72965254af7b6673f9c5f1e31e9",
            "_dom_classes": [],
            "description": "Angina após exercício:",
            "_model_name": "RadioButtonsModel",
            "index": 0,
            "_view_module": "@jupyter-widgets/controls",
            "_model_module_version": "1.5.0",
            "_view_count": null,
            "disabled": false,
            "_view_module_version": "1.5.0",
            "description_tooltip": null,
            "_model_module": "@jupyter-widgets/controls",
            "layout": "IPY_MODEL_dd19d9ff77d04a6daf2a0c739a878042"
          }
        },
        "a64c5c532b0d44d9a46acb4dce80d2c1": {
          "model_module": "@jupyter-widgets/controls",
          "model_name": "RadioButtonsModel",
          "state": {
            "_options_labels": [
              "Normal",
              "Defeito fixo",
              "Defeito reversível"
            ],
            "_view_name": "RadioButtonsView",
            "style": "IPY_MODEL_d9183060da9547f381a87e161fcdfcb9",
            "_dom_classes": [],
            "description": "Teste de stress cardíaco:",
            "_model_name": "RadioButtonsModel",
            "index": 0,
            "_view_module": "@jupyter-widgets/controls",
            "_model_module_version": "1.5.0",
            "_view_count": null,
            "disabled": false,
            "_view_module_version": "1.5.0",
            "description_tooltip": null,
            "_model_module": "@jupyter-widgets/controls",
            "layout": "IPY_MODEL_1a598a19d3824527ad3d7f2fe97b0cc4"
          }
        },
        "d6b4af3f1dc44ba094386bff6ca1b187": {
          "model_module": "@jupyter-widgets/controls",
          "model_name": "RadioButtonsModel",
          "state": {
            "_options_labels": [
              "Angina",
              "Angina atípica",
              "Dor não cardíaca",
              "Sem sintomas"
            ],
            "_view_name": "RadioButtonsView",
            "style": "IPY_MODEL_f955a193ec59422fa154d066df280a9c",
            "_dom_classes": [],
            "description": "Tipo de dor torácica:",
            "_model_name": "RadioButtonsModel",
            "index": 0,
            "_view_module": "@jupyter-widgets/controls",
            "_model_module_version": "1.5.0",
            "_view_count": null,
            "disabled": false,
            "_view_module_version": "1.5.0",
            "description_tooltip": null,
            "_model_module": "@jupyter-widgets/controls",
            "layout": "IPY_MODEL_50f0056293444720bff761619c06e561"
          }
        },
        "eafcb43c3a8b423baf4f3da3d10fb339": {
          "model_module": "@jupyter-widgets/controls",
          "model_name": "RadioButtonsModel",
          "state": {
            "_options_labels": [
              "Normal",
              "Anormalidade do ST-T",
              "Hipertrofia ventricular"
            ],
            "_view_name": "RadioButtonsView",
            "style": "IPY_MODEL_b7be721971df46189f12020a857b4657",
            "_dom_classes": [],
            "description": "Eletrocardiografia:",
            "_model_name": "RadioButtonsModel",
            "index": 0,
            "_view_module": "@jupyter-widgets/controls",
            "_model_module_version": "1.5.0",
            "_view_count": null,
            "disabled": false,
            "_view_module_version": "1.5.0",
            "description_tooltip": null,
            "_model_module": "@jupyter-widgets/controls",
            "layout": "IPY_MODEL_0205b1da3f7b47678773b1c1c3114616"
          }
        },
        "d2039000b8fc4c6da0ec9a15e300743e": {
          "model_module": "@jupyter-widgets/controls",
          "model_name": "DescriptionStyleModel",
          "state": {
            "_view_name": "StyleView",
            "_model_name": "DescriptionStyleModel",
            "description_width": "150px",
            "_view_module": "@jupyter-widgets/base",
            "_model_module_version": "1.5.0",
            "_view_count": null,
            "_view_module_version": "1.2.0",
            "_model_module": "@jupyter-widgets/controls"
          }
        },
        "8a33d1686d734e9ea85ba289bf140f31": {
          "model_module": "@jupyter-widgets/base",
          "model_name": "LayoutModel",
          "state": {
            "_view_name": "LayoutView",
            "grid_template_rows": null,
            "right": null,
            "justify_content": null,
            "_view_module": "@jupyter-widgets/base",
            "overflow": null,
            "_model_module_version": "1.2.0",
            "_view_count": null,
            "flex_flow": null,
            "width": "400px",
            "min_width": null,
            "border": null,
            "align_items": null,
            "bottom": null,
            "_model_module": "@jupyter-widgets/base",
            "top": null,
            "grid_column": null,
            "overflow_y": null,
            "overflow_x": null,
            "grid_auto_flow": null,
            "grid_area": null,
            "grid_template_columns": null,
            "flex": null,
            "_model_name": "LayoutModel",
            "justify_items": null,
            "grid_row": null,
            "max_height": null,
            "align_content": null,
            "visibility": null,
            "align_self": null,
            "height": null,
            "min_height": null,
            "padding": null,
            "grid_auto_rows": null,
            "grid_gap": null,
            "max_width": null,
            "order": null,
            "_view_module_version": "1.2.0",
            "grid_template_areas": null,
            "object_position": null,
            "object_fit": null,
            "grid_auto_columns": null,
            "margin": null,
            "display": null,
            "left": null
          }
        },
        "a53d88b279f84a8986ac08dc4db4c6ef": {
          "model_module": "@jupyter-widgets/controls",
          "model_name": "DescriptionStyleModel",
          "state": {
            "_view_name": "StyleView",
            "_model_name": "DescriptionStyleModel",
            "description_width": "150px",
            "_view_module": "@jupyter-widgets/base",
            "_model_module_version": "1.5.0",
            "_view_count": null,
            "_view_module_version": "1.2.0",
            "_model_module": "@jupyter-widgets/controls"
          }
        },
        "7f2df7fdf94e4e678c51f58ec740ec18": {
          "model_module": "@jupyter-widgets/base",
          "model_name": "LayoutModel",
          "state": {
            "_view_name": "LayoutView",
            "grid_template_rows": null,
            "right": null,
            "justify_content": null,
            "_view_module": "@jupyter-widgets/base",
            "overflow": null,
            "_model_module_version": "1.2.0",
            "_view_count": null,
            "flex_flow": null,
            "width": "400px",
            "min_width": null,
            "border": null,
            "align_items": null,
            "bottom": null,
            "_model_module": "@jupyter-widgets/base",
            "top": null,
            "grid_column": null,
            "overflow_y": null,
            "overflow_x": null,
            "grid_auto_flow": null,
            "grid_area": null,
            "grid_template_columns": null,
            "flex": null,
            "_model_name": "LayoutModel",
            "justify_items": null,
            "grid_row": null,
            "max_height": null,
            "align_content": null,
            "visibility": null,
            "align_self": null,
            "height": null,
            "min_height": null,
            "padding": null,
            "grid_auto_rows": null,
            "grid_gap": null,
            "max_width": null,
            "order": null,
            "_view_module_version": "1.2.0",
            "grid_template_areas": null,
            "object_position": null,
            "object_fit": null,
            "grid_auto_columns": null,
            "margin": null,
            "display": null,
            "left": null
          }
        },
        "7797ffbeef094a668f9bf4cf7c7e3b2c": {
          "model_module": "@jupyter-widgets/controls",
          "model_name": "DescriptionStyleModel",
          "state": {
            "_view_name": "StyleView",
            "_model_name": "DescriptionStyleModel",
            "description_width": "150px",
            "_view_module": "@jupyter-widgets/base",
            "_model_module_version": "1.5.0",
            "_view_count": null,
            "_view_module_version": "1.2.0",
            "_model_module": "@jupyter-widgets/controls"
          }
        },
        "cf8c476da21a4c27ab81ac984e2acb59": {
          "model_module": "@jupyter-widgets/base",
          "model_name": "LayoutModel",
          "state": {
            "_view_name": "LayoutView",
            "grid_template_rows": null,
            "right": null,
            "justify_content": null,
            "_view_module": "@jupyter-widgets/base",
            "overflow": null,
            "_model_module_version": "1.2.0",
            "_view_count": null,
            "flex_flow": null,
            "width": "400px",
            "min_width": null,
            "border": null,
            "align_items": null,
            "bottom": null,
            "_model_module": "@jupyter-widgets/base",
            "top": null,
            "grid_column": null,
            "overflow_y": null,
            "overflow_x": null,
            "grid_auto_flow": null,
            "grid_area": null,
            "grid_template_columns": null,
            "flex": null,
            "_model_name": "LayoutModel",
            "justify_items": null,
            "grid_row": null,
            "max_height": null,
            "align_content": null,
            "visibility": null,
            "align_self": null,
            "height": null,
            "min_height": null,
            "padding": null,
            "grid_auto_rows": null,
            "grid_gap": null,
            "max_width": null,
            "order": null,
            "_view_module_version": "1.2.0",
            "grid_template_areas": null,
            "object_position": null,
            "object_fit": null,
            "grid_auto_columns": null,
            "margin": null,
            "display": null,
            "left": null
          }
        },
        "3659139c18cf4220900e23faacaa173b": {
          "model_module": "@jupyter-widgets/controls",
          "model_name": "DescriptionStyleModel",
          "state": {
            "_view_name": "StyleView",
            "_model_name": "DescriptionStyleModel",
            "description_width": "210px",
            "_view_module": "@jupyter-widgets/base",
            "_model_module_version": "1.5.0",
            "_view_count": null,
            "_view_module_version": "1.2.0",
            "_model_module": "@jupyter-widgets/controls"
          }
        },
        "2a6287d8eb884cedaa28d91c1986e0c4": {
          "model_module": "@jupyter-widgets/base",
          "model_name": "LayoutModel",
          "state": {
            "_view_name": "LayoutView",
            "grid_template_rows": null,
            "right": null,
            "justify_content": null,
            "_view_module": "@jupyter-widgets/base",
            "overflow": null,
            "_model_module_version": "1.2.0",
            "_view_count": null,
            "flex_flow": null,
            "width": "400px",
            "min_width": null,
            "border": null,
            "align_items": null,
            "bottom": null,
            "_model_module": "@jupyter-widgets/base",
            "top": null,
            "grid_column": null,
            "overflow_y": null,
            "overflow_x": null,
            "grid_auto_flow": null,
            "grid_area": null,
            "grid_template_columns": null,
            "flex": null,
            "_model_name": "LayoutModel",
            "justify_items": null,
            "grid_row": null,
            "max_height": null,
            "align_content": null,
            "visibility": null,
            "align_self": null,
            "height": null,
            "min_height": null,
            "padding": null,
            "grid_auto_rows": null,
            "grid_gap": null,
            "max_width": null,
            "order": null,
            "_view_module_version": "1.2.0",
            "grid_template_areas": null,
            "object_position": null,
            "object_fit": null,
            "grid_auto_columns": null,
            "margin": null,
            "display": null,
            "left": null
          }
        },
        "a5dc4373f7234742934981963566b573": {
          "model_module": "@jupyter-widgets/controls",
          "model_name": "DescriptionStyleModel",
          "state": {
            "_view_name": "StyleView",
            "_model_name": "DescriptionStyleModel",
            "description_width": "210px",
            "_view_module": "@jupyter-widgets/base",
            "_model_module_version": "1.5.0",
            "_view_count": null,
            "_view_module_version": "1.2.0",
            "_model_module": "@jupyter-widgets/controls"
          }
        },
        "ae35af57caab49bf9d3cc0f60a62ba82": {
          "model_module": "@jupyter-widgets/base",
          "model_name": "LayoutModel",
          "state": {
            "_view_name": "LayoutView",
            "grid_template_rows": null,
            "right": null,
            "justify_content": null,
            "_view_module": "@jupyter-widgets/base",
            "overflow": null,
            "_model_module_version": "1.2.0",
            "_view_count": null,
            "flex_flow": null,
            "width": "400px",
            "min_width": null,
            "border": null,
            "align_items": null,
            "bottom": null,
            "_model_module": "@jupyter-widgets/base",
            "top": null,
            "grid_column": null,
            "overflow_y": null,
            "overflow_x": null,
            "grid_auto_flow": null,
            "grid_area": null,
            "grid_template_columns": null,
            "flex": null,
            "_model_name": "LayoutModel",
            "justify_items": null,
            "grid_row": null,
            "max_height": null,
            "align_content": null,
            "visibility": null,
            "align_self": null,
            "height": null,
            "min_height": null,
            "padding": null,
            "grid_auto_rows": null,
            "grid_gap": null,
            "max_width": null,
            "order": null,
            "_view_module_version": "1.2.0",
            "grid_template_areas": null,
            "object_position": null,
            "object_fit": null,
            "grid_auto_columns": null,
            "margin": null,
            "display": null,
            "left": null
          }
        },
        "f107b95af22f4694949564168d838fbb": {
          "model_module": "@jupyter-widgets/controls",
          "model_name": "DescriptionStyleModel",
          "state": {
            "_view_name": "StyleView",
            "_model_name": "DescriptionStyleModel",
            "description_width": "230px",
            "_view_module": "@jupyter-widgets/base",
            "_model_module_version": "1.5.0",
            "_view_count": null,
            "_view_module_version": "1.2.0",
            "_model_module": "@jupyter-widgets/controls"
          }
        },
        "7b3ca34cbe1044588459b0e241fd2d84": {
          "model_module": "@jupyter-widgets/base",
          "model_name": "LayoutModel",
          "state": {
            "_view_name": "LayoutView",
            "grid_template_rows": null,
            "right": null,
            "justify_content": null,
            "_view_module": "@jupyter-widgets/base",
            "overflow": null,
            "_model_module_version": "1.2.0",
            "_view_count": null,
            "flex_flow": null,
            "width": "400px",
            "min_width": null,
            "border": null,
            "align_items": null,
            "bottom": null,
            "_model_module": "@jupyter-widgets/base",
            "top": null,
            "grid_column": null,
            "overflow_y": null,
            "overflow_x": null,
            "grid_auto_flow": null,
            "grid_area": null,
            "grid_template_columns": null,
            "flex": null,
            "_model_name": "LayoutModel",
            "justify_items": null,
            "grid_row": null,
            "max_height": null,
            "align_content": null,
            "visibility": null,
            "align_self": null,
            "height": null,
            "min_height": null,
            "padding": null,
            "grid_auto_rows": null,
            "grid_gap": null,
            "max_width": null,
            "order": null,
            "_view_module_version": "1.2.0",
            "grid_template_areas": null,
            "object_position": null,
            "object_fit": null,
            "grid_auto_columns": null,
            "margin": null,
            "display": null,
            "left": null
          }
        },
        "4d03250ea44348d09eb0eb18c95f440b": {
          "model_module": "@jupyter-widgets/controls",
          "model_name": "DescriptionStyleModel",
          "state": {
            "_view_name": "StyleView",
            "_model_name": "DescriptionStyleModel",
            "description_width": "210px",
            "_view_module": "@jupyter-widgets/base",
            "_model_module_version": "1.5.0",
            "_view_count": null,
            "_view_module_version": "1.2.0",
            "_model_module": "@jupyter-widgets/controls"
          }
        },
        "c96eca8016af4ca1ae7d53d5022bf979": {
          "model_module": "@jupyter-widgets/base",
          "model_name": "LayoutModel",
          "state": {
            "_view_name": "LayoutView",
            "grid_template_rows": null,
            "right": null,
            "justify_content": null,
            "_view_module": "@jupyter-widgets/base",
            "overflow": null,
            "_model_module_version": "1.2.0",
            "_view_count": null,
            "flex_flow": null,
            "width": "400px",
            "min_width": null,
            "border": null,
            "align_items": null,
            "bottom": null,
            "_model_module": "@jupyter-widgets/base",
            "top": null,
            "grid_column": null,
            "overflow_y": null,
            "overflow_x": null,
            "grid_auto_flow": null,
            "grid_area": null,
            "grid_template_columns": null,
            "flex": null,
            "_model_name": "LayoutModel",
            "justify_items": null,
            "grid_row": null,
            "max_height": null,
            "align_content": null,
            "visibility": null,
            "align_self": null,
            "height": null,
            "min_height": null,
            "padding": null,
            "grid_auto_rows": null,
            "grid_gap": null,
            "max_width": null,
            "order": null,
            "_view_module_version": "1.2.0",
            "grid_template_areas": null,
            "object_position": null,
            "object_fit": null,
            "grid_auto_columns": null,
            "margin": null,
            "display": null,
            "left": null
          }
        },
        "d629ba5874204de698942bb6685a83d5": {
          "model_module": "@jupyter-widgets/controls",
          "model_name": "DescriptionStyleModel",
          "state": {
            "_view_name": "StyleView",
            "_model_name": "DescriptionStyleModel",
            "description_width": "150px",
            "_view_module": "@jupyter-widgets/base",
            "_model_module_version": "1.5.0",
            "_view_count": null,
            "_view_module_version": "1.2.0",
            "_model_module": "@jupyter-widgets/controls"
          }
        },
        "f814fe4204424e779d0d1f961edd8a2c": {
          "model_module": "@jupyter-widgets/base",
          "model_name": "LayoutModel",
          "state": {
            "_view_name": "LayoutView",
            "grid_template_rows": null,
            "right": null,
            "justify_content": null,
            "_view_module": "@jupyter-widgets/base",
            "overflow": null,
            "_model_module_version": "1.2.0",
            "_view_count": null,
            "flex_flow": null,
            "width": null,
            "min_width": null,
            "border": null,
            "align_items": null,
            "bottom": null,
            "_model_module": "@jupyter-widgets/base",
            "top": null,
            "grid_column": null,
            "overflow_y": null,
            "overflow_x": null,
            "grid_auto_flow": null,
            "grid_area": null,
            "grid_template_columns": null,
            "flex": null,
            "_model_name": "LayoutModel",
            "justify_items": null,
            "grid_row": null,
            "max_height": null,
            "align_content": null,
            "visibility": null,
            "align_self": null,
            "height": null,
            "min_height": null,
            "padding": null,
            "grid_auto_rows": null,
            "grid_gap": null,
            "max_width": null,
            "order": null,
            "_view_module_version": "1.2.0",
            "grid_template_areas": null,
            "object_position": null,
            "object_fit": null,
            "grid_auto_columns": null,
            "margin": null,
            "display": null,
            "left": null
          }
        },
        "4349c72965254af7b6673f9c5f1e31e9": {
          "model_module": "@jupyter-widgets/controls",
          "model_name": "DescriptionStyleModel",
          "state": {
            "_view_name": "StyleView",
            "_model_name": "DescriptionStyleModel",
            "description_width": "150px",
            "_view_module": "@jupyter-widgets/base",
            "_model_module_version": "1.5.0",
            "_view_count": null,
            "_view_module_version": "1.2.0",
            "_model_module": "@jupyter-widgets/controls"
          }
        },
        "dd19d9ff77d04a6daf2a0c739a878042": {
          "model_module": "@jupyter-widgets/base",
          "model_name": "LayoutModel",
          "state": {
            "_view_name": "LayoutView",
            "grid_template_rows": null,
            "right": null,
            "justify_content": null,
            "_view_module": "@jupyter-widgets/base",
            "overflow": null,
            "_model_module_version": "1.2.0",
            "_view_count": null,
            "flex_flow": null,
            "width": "400px",
            "min_width": null,
            "border": null,
            "align_items": null,
            "bottom": null,
            "_model_module": "@jupyter-widgets/base",
            "top": null,
            "grid_column": null,
            "overflow_y": null,
            "overflow_x": null,
            "grid_auto_flow": null,
            "grid_area": null,
            "grid_template_columns": null,
            "flex": null,
            "_model_name": "LayoutModel",
            "justify_items": null,
            "grid_row": null,
            "max_height": null,
            "align_content": null,
            "visibility": null,
            "align_self": null,
            "height": null,
            "min_height": null,
            "padding": null,
            "grid_auto_rows": null,
            "grid_gap": null,
            "max_width": null,
            "order": null,
            "_view_module_version": "1.2.0",
            "grid_template_areas": null,
            "object_position": null,
            "object_fit": null,
            "grid_auto_columns": null,
            "margin": null,
            "display": null,
            "left": null
          }
        },
        "d9183060da9547f381a87e161fcdfcb9": {
          "model_module": "@jupyter-widgets/controls",
          "model_name": "DescriptionStyleModel",
          "state": {
            "_view_name": "StyleView",
            "_model_name": "DescriptionStyleModel",
            "description_width": "150px",
            "_view_module": "@jupyter-widgets/base",
            "_model_module_version": "1.5.0",
            "_view_count": null,
            "_view_module_version": "1.2.0",
            "_model_module": "@jupyter-widgets/controls"
          }
        },
        "1a598a19d3824527ad3d7f2fe97b0cc4": {
          "model_module": "@jupyter-widgets/base",
          "model_name": "LayoutModel",
          "state": {
            "_view_name": "LayoutView",
            "grid_template_rows": null,
            "right": null,
            "justify_content": null,
            "_view_module": "@jupyter-widgets/base",
            "overflow": null,
            "_model_module_version": "1.2.0",
            "_view_count": null,
            "flex_flow": null,
            "width": null,
            "min_width": null,
            "border": null,
            "align_items": null,
            "bottom": null,
            "_model_module": "@jupyter-widgets/base",
            "top": null,
            "grid_column": null,
            "overflow_y": null,
            "overflow_x": null,
            "grid_auto_flow": null,
            "grid_area": null,
            "grid_template_columns": null,
            "flex": null,
            "_model_name": "LayoutModel",
            "justify_items": null,
            "grid_row": null,
            "max_height": null,
            "align_content": null,
            "visibility": null,
            "align_self": null,
            "height": null,
            "min_height": null,
            "padding": null,
            "grid_auto_rows": null,
            "grid_gap": null,
            "max_width": null,
            "order": null,
            "_view_module_version": "1.2.0",
            "grid_template_areas": null,
            "object_position": null,
            "object_fit": null,
            "grid_auto_columns": null,
            "margin": null,
            "display": null,
            "left": null
          }
        },
        "f955a193ec59422fa154d066df280a9c": {
          "model_module": "@jupyter-widgets/controls",
          "model_name": "DescriptionStyleModel",
          "state": {
            "_view_name": "StyleView",
            "_model_name": "DescriptionStyleModel",
            "description_width": "150px",
            "_view_module": "@jupyter-widgets/base",
            "_model_module_version": "1.5.0",
            "_view_count": null,
            "_view_module_version": "1.2.0",
            "_model_module": "@jupyter-widgets/controls"
          }
        },
        "50f0056293444720bff761619c06e561": {
          "model_module": "@jupyter-widgets/base",
          "model_name": "LayoutModel",
          "state": {
            "_view_name": "LayoutView",
            "grid_template_rows": null,
            "right": null,
            "justify_content": null,
            "_view_module": "@jupyter-widgets/base",
            "overflow": null,
            "_model_module_version": "1.2.0",
            "_view_count": null,
            "flex_flow": null,
            "width": null,
            "min_width": null,
            "border": null,
            "align_items": null,
            "bottom": null,
            "_model_module": "@jupyter-widgets/base",
            "top": null,
            "grid_column": null,
            "overflow_y": null,
            "overflow_x": null,
            "grid_auto_flow": null,
            "grid_area": null,
            "grid_template_columns": null,
            "flex": null,
            "_model_name": "LayoutModel",
            "justify_items": null,
            "grid_row": null,
            "max_height": null,
            "align_content": null,
            "visibility": null,
            "align_self": null,
            "height": null,
            "min_height": null,
            "padding": null,
            "grid_auto_rows": null,
            "grid_gap": null,
            "max_width": null,
            "order": null,
            "_view_module_version": "1.2.0",
            "grid_template_areas": null,
            "object_position": null,
            "object_fit": null,
            "grid_auto_columns": null,
            "margin": null,
            "display": null,
            "left": null
          }
        },
        "b7be721971df46189f12020a857b4657": {
          "model_module": "@jupyter-widgets/controls",
          "model_name": "DescriptionStyleModel",
          "state": {
            "_view_name": "StyleView",
            "_model_name": "DescriptionStyleModel",
            "description_width": "150px",
            "_view_module": "@jupyter-widgets/base",
            "_model_module_version": "1.5.0",
            "_view_count": null,
            "_view_module_version": "1.2.0",
            "_model_module": "@jupyter-widgets/controls"
          }
        },
        "0205b1da3f7b47678773b1c1c3114616": {
          "model_module": "@jupyter-widgets/base",
          "model_name": "LayoutModel",
          "state": {
            "_view_name": "LayoutView",
            "grid_template_rows": null,
            "right": null,
            "justify_content": null,
            "_view_module": "@jupyter-widgets/base",
            "overflow": null,
            "_model_module_version": "1.2.0",
            "_view_count": null,
            "flex_flow": null,
            "width": "400px",
            "min_width": null,
            "border": null,
            "align_items": null,
            "bottom": null,
            "_model_module": "@jupyter-widgets/base",
            "top": null,
            "grid_column": null,
            "overflow_y": null,
            "overflow_x": null,
            "grid_auto_flow": null,
            "grid_area": null,
            "grid_template_columns": null,
            "flex": null,
            "_model_name": "LayoutModel",
            "justify_items": null,
            "grid_row": null,
            "max_height": null,
            "align_content": null,
            "visibility": null,
            "align_self": null,
            "height": null,
            "min_height": null,
            "padding": null,
            "grid_auto_rows": null,
            "grid_gap": null,
            "max_width": null,
            "order": null,
            "_view_module_version": "1.2.0",
            "grid_template_areas": null,
            "object_position": null,
            "object_fit": null,
            "grid_auto_columns": null,
            "margin": null,
            "display": null,
            "left": null
          }
        },
        "f389c1f871aa4200876bad954335b7ef": {
          "model_module": "@jupyter-widgets/controls",
          "model_name": "ButtonModel",
          "state": {
            "_view_name": "ButtonView",
            "style": "IPY_MODEL_9df2e2d1df544fb3a8a3fbbb14ab40f1",
            "_dom_classes": [],
            "description": "Simular",
            "_model_name": "ButtonModel",
            "button_style": "",
            "_view_module": "@jupyter-widgets/controls",
            "_model_module_version": "1.5.0",
            "tooltip": "",
            "_view_count": null,
            "disabled": false,
            "_view_module_version": "1.5.0",
            "layout": "IPY_MODEL_ad8b111aa8564d389d567fcc46382277",
            "_model_module": "@jupyter-widgets/controls",
            "icon": ""
          }
        },
        "9df2e2d1df544fb3a8a3fbbb14ab40f1": {
          "model_module": "@jupyter-widgets/controls",
          "model_name": "ButtonStyleModel",
          "state": {
            "_view_name": "StyleView",
            "_model_name": "ButtonStyleModel",
            "_view_module": "@jupyter-widgets/base",
            "_model_module_version": "1.5.0",
            "_view_count": null,
            "button_color": null,
            "font_weight": "",
            "_view_module_version": "1.2.0",
            "_model_module": "@jupyter-widgets/controls"
          }
        },
        "ad8b111aa8564d389d567fcc46382277": {
          "model_module": "@jupyter-widgets/base",
          "model_name": "LayoutModel",
          "state": {
            "_view_name": "LayoutView",
            "grid_template_rows": null,
            "right": null,
            "justify_content": null,
            "_view_module": "@jupyter-widgets/base",
            "overflow": null,
            "_model_module_version": "1.2.0",
            "_view_count": null,
            "flex_flow": null,
            "width": null,
            "min_width": null,
            "border": null,
            "align_items": null,
            "bottom": null,
            "_model_module": "@jupyter-widgets/base",
            "top": null,
            "grid_column": null,
            "overflow_y": null,
            "overflow_x": null,
            "grid_auto_flow": null,
            "grid_area": null,
            "grid_template_columns": null,
            "flex": null,
            "_model_name": "LayoutModel",
            "justify_items": null,
            "grid_row": null,
            "max_height": null,
            "align_content": null,
            "visibility": null,
            "align_self": null,
            "height": null,
            "min_height": null,
            "padding": null,
            "grid_auto_rows": null,
            "grid_gap": null,
            "max_width": null,
            "order": null,
            "_view_module_version": "1.2.0",
            "grid_template_areas": null,
            "object_position": null,
            "object_fit": null,
            "grid_auto_columns": null,
            "margin": null,
            "display": null,
            "left": null
          }
        }
      }
    }
  },
  "cells": [
    {
      "cell_type": "markdown",
      "metadata": {
        "id": "nDonZgC3aby4",
        "colab_type": "text"
      },
      "source": [
        "# Doenças cardiovasculares UCI"
      ]
    },
    {
      "cell_type": "markdown",
      "metadata": {
        "id": "5eUzWkGUanz2",
        "colab_type": "text"
      },
      "source": [
        "O propósito desse notebook é a criação de um simulador que irá prever o diagnóstico de Doenças Cardíacas através da aplicação de Machine Learning. "
      ]
    },
    {
      "cell_type": "markdown",
      "metadata": {
        "id": "E_wGAd2seJS7",
        "colab_type": "text"
      },
      "source": [
        "Através da iniciativa da UCI Machine Learning da University of California, Irvin, com a coleta desses dados que possuem informações pessoais e médicas de 303 pacientes e 14 diferentes atributos, poderemos entender, com a aplicação de técnicas de Machine Learning, os principais fatores que levam as pessoas a desenvolverem doenças cardíacas e auxiliar os médicos na concessão de diagnósticos mais precisos."
      ]
    },
    {
      "cell_type": "markdown",
      "metadata": {
        "id": "IQpQAUw2ctxU",
        "colab_type": "text"
      },
      "source": [
        "# Obtenção dos dados"
      ]
    },
    {
      "cell_type": "markdown",
      "metadata": {
        "id": "7gUR-AkfcgIC",
        "colab_type": "text"
      },
      "source": [
        "O conjunto de dados utilizados para estimar o modelo de Machine Learning foi obtido atráves do site https://archive.ics.uci.edu/ml/datasets/heart+Disease.\n",
        "Neste link é possível obter as informações de cada variável.\n",
        "\n",
        "Esses são os nomes de cada investigador principal responsável pela coleta de dados em sua respectiva instituição: \n",
        "\n",
        "1. Instituto Húngaro de Cardiologia. Budapeste: Andras Janosi, MD\n",
        "2. Hospital Universitário, Zurique, Suíça: William Steinbrunn, MD\n",
        "3. Hospital Universitário, Basileia, Suíça: Matthias Pfisterer, MD\n",
        "4. Centro Médico VA, Long Beach e Cleveland Clinic Foundation: Robert Detrano, MD, Ph.D.\n"
      ]
    },
    {
      "cell_type": "markdown",
      "metadata": {
        "id": "sM4c-rVCiyOE",
        "colab_type": "text"
      },
      "source": [
        "O dataset e o dicionário de variáveis disponibilizados no site não estão formatados em arquivos csv. Os dados estão em um arquivo .data e o dicionário de variáveis em um arquivo .name."
      ]
    },
    {
      "cell_type": "markdown",
      "metadata": {
        "id": "tcrzG1fngASy",
        "colab_type": "text"
      },
      "source": [
        "#Estruturação dos dados"
      ]
    },
    {
      "cell_type": "markdown",
      "metadata": {
        "id": "gfd3mylTgF1C",
        "colab_type": "text"
      },
      "source": [
        "Os dados fornecidos no site em questão serão processados e postos em um arquivo csv para facilitar a visualização e manuseio. "
      ]
    },
    {
      "cell_type": "markdown",
      "metadata": {
        "id": "6m6Ndb_pgrTI",
        "colab_type": "text"
      },
      "source": [
        "Ao acessar o link acima, estaremos na página inicial do dataset e para termos acesso aos dados e as informações sobre as variáveis precisaremos clicar no aba \n",
        "\"Data Folder\". Lá encontraremos o arquivo que será trabalhado:\n",
        "\n",
        "*   processed.cleveland.data: dataset.\n",
        "\n",
        "\n"
      ]
    },
    {
      "cell_type": "markdown",
      "metadata": {
        "id": "IWgCj9ugiBVh",
        "colab_type": "text"
      },
      "source": [
        "Na página principal do projeto consta a informação de que o dataset de Cleveland é o único que tem sido usado, até então, em projetos de Machine Learning. Esse dataset conta com apenas 14 variáveis das 76 disponibilizados no banco de dados principal. Desta forma, é o dataset de Cleveland que será utilizado neste notebook."
      ]
    },
    {
      "cell_type": "markdown",
      "metadata": {
        "id": "HoI1mg78jkMU",
        "colab_type": "text"
      },
      "source": [
        "Os 14 atributos utilizados estão discricionados em ordem na página principal:\n",
        "\n",
        "\n",
        "1. 3 (idade)\n",
        "2. 4 (sexo)\n",
        "3. 9 (cp)\n",
        "4. 10 (trestbps)\n",
        "5. 12 (chol)\n",
        "6. 16 (fbs)\n",
        "7. 19 (restecg)\n",
        "8. 32 (thalach)\n",
        "9. 38 (exang)\n",
        "10. 40 (oldpeak)\n",
        "11. 41 (inclinação)\n",
        "12. 44 (ca)\n",
        "13. 51 (thal)\n",
        "14. 58 (num) (o atributo previsto)"
      ]
    },
    {
      "cell_type": "code",
      "metadata": {
        "id": "ha8I1Mftjjla",
        "colab_type": "code",
        "colab": {}
      },
      "source": [
        "#importando o dataset\n",
        "\n",
        "import pandas as pd \n",
        "\n",
        "dados = pd.read_csv(\"processed.cleveland.data\")\n",
        "dados"
      ],
      "execution_count": null,
      "outputs": []
    },
    {
      "cell_type": "markdown",
      "metadata": {
        "id": "8q2QKwvDlN3x",
        "colab_type": "text"
      },
      "source": [
        "Perceba que não há cabeçalho compreensível e temos uma interrogação na ultima linha do nosso dataframe, desta feita vamos trabalhar isso. "
      ]
    },
    {
      "cell_type": "code",
      "metadata": {
        "id": "i9EAoR4YlY1R",
        "colab_type": "code",
        "colab": {
          "base_uri": "https://localhost:8080/",
          "height": 419
        },
        "outputId": "fee06a8a-6bb6-4414-c4d7-28ce0bbe57da"
      },
      "source": [
        "dados = pd.read_csv(\"processed.cleveland.data\", header = None, na_values='?')\n",
        "dados"
      ],
      "execution_count": null,
      "outputs": [
        {
          "output_type": "execute_result",
          "data": {
            "text/html": [
              "<div>\n",
              "<style scoped>\n",
              "    .dataframe tbody tr th:only-of-type {\n",
              "        vertical-align: middle;\n",
              "    }\n",
              "\n",
              "    .dataframe tbody tr th {\n",
              "        vertical-align: top;\n",
              "    }\n",
              "\n",
              "    .dataframe thead th {\n",
              "        text-align: right;\n",
              "    }\n",
              "</style>\n",
              "<table border=\"1\" class=\"dataframe\">\n",
              "  <thead>\n",
              "    <tr style=\"text-align: right;\">\n",
              "      <th></th>\n",
              "      <th>0</th>\n",
              "      <th>1</th>\n",
              "      <th>2</th>\n",
              "      <th>3</th>\n",
              "      <th>4</th>\n",
              "      <th>5</th>\n",
              "      <th>6</th>\n",
              "      <th>7</th>\n",
              "      <th>8</th>\n",
              "      <th>9</th>\n",
              "      <th>10</th>\n",
              "      <th>11</th>\n",
              "      <th>12</th>\n",
              "      <th>13</th>\n",
              "    </tr>\n",
              "  </thead>\n",
              "  <tbody>\n",
              "    <tr>\n",
              "      <th>0</th>\n",
              "      <td>63.0</td>\n",
              "      <td>1.0</td>\n",
              "      <td>1.0</td>\n",
              "      <td>145.0</td>\n",
              "      <td>233.0</td>\n",
              "      <td>1.0</td>\n",
              "      <td>2.0</td>\n",
              "      <td>150.0</td>\n",
              "      <td>0.0</td>\n",
              "      <td>2.3</td>\n",
              "      <td>3.0</td>\n",
              "      <td>0.0</td>\n",
              "      <td>6.0</td>\n",
              "      <td>0</td>\n",
              "    </tr>\n",
              "    <tr>\n",
              "      <th>1</th>\n",
              "      <td>67.0</td>\n",
              "      <td>1.0</td>\n",
              "      <td>4.0</td>\n",
              "      <td>160.0</td>\n",
              "      <td>286.0</td>\n",
              "      <td>0.0</td>\n",
              "      <td>2.0</td>\n",
              "      <td>108.0</td>\n",
              "      <td>1.0</td>\n",
              "      <td>1.5</td>\n",
              "      <td>2.0</td>\n",
              "      <td>3.0</td>\n",
              "      <td>3.0</td>\n",
              "      <td>2</td>\n",
              "    </tr>\n",
              "    <tr>\n",
              "      <th>2</th>\n",
              "      <td>67.0</td>\n",
              "      <td>1.0</td>\n",
              "      <td>4.0</td>\n",
              "      <td>120.0</td>\n",
              "      <td>229.0</td>\n",
              "      <td>0.0</td>\n",
              "      <td>2.0</td>\n",
              "      <td>129.0</td>\n",
              "      <td>1.0</td>\n",
              "      <td>2.6</td>\n",
              "      <td>2.0</td>\n",
              "      <td>2.0</td>\n",
              "      <td>7.0</td>\n",
              "      <td>1</td>\n",
              "    </tr>\n",
              "    <tr>\n",
              "      <th>3</th>\n",
              "      <td>37.0</td>\n",
              "      <td>1.0</td>\n",
              "      <td>3.0</td>\n",
              "      <td>130.0</td>\n",
              "      <td>250.0</td>\n",
              "      <td>0.0</td>\n",
              "      <td>0.0</td>\n",
              "      <td>187.0</td>\n",
              "      <td>0.0</td>\n",
              "      <td>3.5</td>\n",
              "      <td>3.0</td>\n",
              "      <td>0.0</td>\n",
              "      <td>3.0</td>\n",
              "      <td>0</td>\n",
              "    </tr>\n",
              "    <tr>\n",
              "      <th>4</th>\n",
              "      <td>41.0</td>\n",
              "      <td>0.0</td>\n",
              "      <td>2.0</td>\n",
              "      <td>130.0</td>\n",
              "      <td>204.0</td>\n",
              "      <td>0.0</td>\n",
              "      <td>2.0</td>\n",
              "      <td>172.0</td>\n",
              "      <td>0.0</td>\n",
              "      <td>1.4</td>\n",
              "      <td>1.0</td>\n",
              "      <td>0.0</td>\n",
              "      <td>3.0</td>\n",
              "      <td>0</td>\n",
              "    </tr>\n",
              "    <tr>\n",
              "      <th>...</th>\n",
              "      <td>...</td>\n",
              "      <td>...</td>\n",
              "      <td>...</td>\n",
              "      <td>...</td>\n",
              "      <td>...</td>\n",
              "      <td>...</td>\n",
              "      <td>...</td>\n",
              "      <td>...</td>\n",
              "      <td>...</td>\n",
              "      <td>...</td>\n",
              "      <td>...</td>\n",
              "      <td>...</td>\n",
              "      <td>...</td>\n",
              "      <td>...</td>\n",
              "    </tr>\n",
              "    <tr>\n",
              "      <th>298</th>\n",
              "      <td>45.0</td>\n",
              "      <td>1.0</td>\n",
              "      <td>1.0</td>\n",
              "      <td>110.0</td>\n",
              "      <td>264.0</td>\n",
              "      <td>0.0</td>\n",
              "      <td>0.0</td>\n",
              "      <td>132.0</td>\n",
              "      <td>0.0</td>\n",
              "      <td>1.2</td>\n",
              "      <td>2.0</td>\n",
              "      <td>0.0</td>\n",
              "      <td>7.0</td>\n",
              "      <td>1</td>\n",
              "    </tr>\n",
              "    <tr>\n",
              "      <th>299</th>\n",
              "      <td>68.0</td>\n",
              "      <td>1.0</td>\n",
              "      <td>4.0</td>\n",
              "      <td>144.0</td>\n",
              "      <td>193.0</td>\n",
              "      <td>1.0</td>\n",
              "      <td>0.0</td>\n",
              "      <td>141.0</td>\n",
              "      <td>0.0</td>\n",
              "      <td>3.4</td>\n",
              "      <td>2.0</td>\n",
              "      <td>2.0</td>\n",
              "      <td>7.0</td>\n",
              "      <td>2</td>\n",
              "    </tr>\n",
              "    <tr>\n",
              "      <th>300</th>\n",
              "      <td>57.0</td>\n",
              "      <td>1.0</td>\n",
              "      <td>4.0</td>\n",
              "      <td>130.0</td>\n",
              "      <td>131.0</td>\n",
              "      <td>0.0</td>\n",
              "      <td>0.0</td>\n",
              "      <td>115.0</td>\n",
              "      <td>1.0</td>\n",
              "      <td>1.2</td>\n",
              "      <td>2.0</td>\n",
              "      <td>1.0</td>\n",
              "      <td>7.0</td>\n",
              "      <td>3</td>\n",
              "    </tr>\n",
              "    <tr>\n",
              "      <th>301</th>\n",
              "      <td>57.0</td>\n",
              "      <td>0.0</td>\n",
              "      <td>2.0</td>\n",
              "      <td>130.0</td>\n",
              "      <td>236.0</td>\n",
              "      <td>0.0</td>\n",
              "      <td>2.0</td>\n",
              "      <td>174.0</td>\n",
              "      <td>0.0</td>\n",
              "      <td>0.0</td>\n",
              "      <td>2.0</td>\n",
              "      <td>1.0</td>\n",
              "      <td>3.0</td>\n",
              "      <td>1</td>\n",
              "    </tr>\n",
              "    <tr>\n",
              "      <th>302</th>\n",
              "      <td>38.0</td>\n",
              "      <td>1.0</td>\n",
              "      <td>3.0</td>\n",
              "      <td>138.0</td>\n",
              "      <td>175.0</td>\n",
              "      <td>0.0</td>\n",
              "      <td>0.0</td>\n",
              "      <td>173.0</td>\n",
              "      <td>0.0</td>\n",
              "      <td>0.0</td>\n",
              "      <td>1.0</td>\n",
              "      <td>NaN</td>\n",
              "      <td>3.0</td>\n",
              "      <td>0</td>\n",
              "    </tr>\n",
              "  </tbody>\n",
              "</table>\n",
              "<p>303 rows × 14 columns</p>\n",
              "</div>"
            ],
            "text/plain": [
              "       0    1    2      3      4    5    6      7    8    9    10   11   12  13\n",
              "0    63.0  1.0  1.0  145.0  233.0  1.0  2.0  150.0  0.0  2.3  3.0  0.0  6.0   0\n",
              "1    67.0  1.0  4.0  160.0  286.0  0.0  2.0  108.0  1.0  1.5  2.0  3.0  3.0   2\n",
              "2    67.0  1.0  4.0  120.0  229.0  0.0  2.0  129.0  1.0  2.6  2.0  2.0  7.0   1\n",
              "3    37.0  1.0  3.0  130.0  250.0  0.0  0.0  187.0  0.0  3.5  3.0  0.0  3.0   0\n",
              "4    41.0  0.0  2.0  130.0  204.0  0.0  2.0  172.0  0.0  1.4  1.0  0.0  3.0   0\n",
              "..    ...  ...  ...    ...    ...  ...  ...    ...  ...  ...  ...  ...  ...  ..\n",
              "298  45.0  1.0  1.0  110.0  264.0  0.0  0.0  132.0  0.0  1.2  2.0  0.0  7.0   1\n",
              "299  68.0  1.0  4.0  144.0  193.0  1.0  0.0  141.0  0.0  3.4  2.0  2.0  7.0   2\n",
              "300  57.0  1.0  4.0  130.0  131.0  0.0  0.0  115.0  1.0  1.2  2.0  1.0  7.0   3\n",
              "301  57.0  0.0  2.0  130.0  236.0  0.0  2.0  174.0  0.0  0.0  2.0  1.0  3.0   1\n",
              "302  38.0  1.0  3.0  138.0  175.0  0.0  0.0  173.0  0.0  0.0  1.0  NaN  3.0   0\n",
              "\n",
              "[303 rows x 14 columns]"
            ]
          },
          "metadata": {
            "tags": []
          },
          "execution_count": 11
        }
      ]
    },
    {
      "cell_type": "markdown",
      "metadata": {
        "id": "lPx9LKieluwS",
        "colab_type": "text"
      },
      "source": [
        "Agora a interrogação passou a ser NaN e temos um cabeçalho que ainda não nos passa muita informação. Desta feita, vamos colocar nossas variáveis nesse dataset (a ordem foi disponibilizada na própria página principal do site oficial, como dito acima)."
      ]
    },
    {
      "cell_type": "code",
      "metadata": {
        "id": "h0-jXUF4l_mD",
        "colab_type": "code",
        "colab": {
          "base_uri": "https://localhost:8080/",
          "height": 204
        },
        "outputId": "5126f62f-6faf-4ed2-8ad2-58774d980e79"
      },
      "source": [
        "dados.columns = ['age', 'sex', 'cp', 'trestbps', 'chol', 'fbs', 'restecg', 'thalach','exang', 'oldpeak', 'slope', \n",
        "                 'ca', 'thal', 'num']\n",
        "dados.head()"
      ],
      "execution_count": null,
      "outputs": [
        {
          "output_type": "execute_result",
          "data": {
            "text/html": [
              "<div>\n",
              "<style scoped>\n",
              "    .dataframe tbody tr th:only-of-type {\n",
              "        vertical-align: middle;\n",
              "    }\n",
              "\n",
              "    .dataframe tbody tr th {\n",
              "        vertical-align: top;\n",
              "    }\n",
              "\n",
              "    .dataframe thead th {\n",
              "        text-align: right;\n",
              "    }\n",
              "</style>\n",
              "<table border=\"1\" class=\"dataframe\">\n",
              "  <thead>\n",
              "    <tr style=\"text-align: right;\">\n",
              "      <th></th>\n",
              "      <th>age</th>\n",
              "      <th>sex</th>\n",
              "      <th>cp</th>\n",
              "      <th>trestbps</th>\n",
              "      <th>chol</th>\n",
              "      <th>fbs</th>\n",
              "      <th>restecg</th>\n",
              "      <th>thalach</th>\n",
              "      <th>exang</th>\n",
              "      <th>oldpeak</th>\n",
              "      <th>slope</th>\n",
              "      <th>ca</th>\n",
              "      <th>thal</th>\n",
              "      <th>num</th>\n",
              "    </tr>\n",
              "  </thead>\n",
              "  <tbody>\n",
              "    <tr>\n",
              "      <th>0</th>\n",
              "      <td>63.0</td>\n",
              "      <td>1.0</td>\n",
              "      <td>1.0</td>\n",
              "      <td>145.0</td>\n",
              "      <td>233.0</td>\n",
              "      <td>1.0</td>\n",
              "      <td>2.0</td>\n",
              "      <td>150.0</td>\n",
              "      <td>0.0</td>\n",
              "      <td>2.3</td>\n",
              "      <td>3.0</td>\n",
              "      <td>0.0</td>\n",
              "      <td>6.0</td>\n",
              "      <td>0</td>\n",
              "    </tr>\n",
              "    <tr>\n",
              "      <th>1</th>\n",
              "      <td>67.0</td>\n",
              "      <td>1.0</td>\n",
              "      <td>4.0</td>\n",
              "      <td>160.0</td>\n",
              "      <td>286.0</td>\n",
              "      <td>0.0</td>\n",
              "      <td>2.0</td>\n",
              "      <td>108.0</td>\n",
              "      <td>1.0</td>\n",
              "      <td>1.5</td>\n",
              "      <td>2.0</td>\n",
              "      <td>3.0</td>\n",
              "      <td>3.0</td>\n",
              "      <td>2</td>\n",
              "    </tr>\n",
              "    <tr>\n",
              "      <th>2</th>\n",
              "      <td>67.0</td>\n",
              "      <td>1.0</td>\n",
              "      <td>4.0</td>\n",
              "      <td>120.0</td>\n",
              "      <td>229.0</td>\n",
              "      <td>0.0</td>\n",
              "      <td>2.0</td>\n",
              "      <td>129.0</td>\n",
              "      <td>1.0</td>\n",
              "      <td>2.6</td>\n",
              "      <td>2.0</td>\n",
              "      <td>2.0</td>\n",
              "      <td>7.0</td>\n",
              "      <td>1</td>\n",
              "    </tr>\n",
              "    <tr>\n",
              "      <th>3</th>\n",
              "      <td>37.0</td>\n",
              "      <td>1.0</td>\n",
              "      <td>3.0</td>\n",
              "      <td>130.0</td>\n",
              "      <td>250.0</td>\n",
              "      <td>0.0</td>\n",
              "      <td>0.0</td>\n",
              "      <td>187.0</td>\n",
              "      <td>0.0</td>\n",
              "      <td>3.5</td>\n",
              "      <td>3.0</td>\n",
              "      <td>0.0</td>\n",
              "      <td>3.0</td>\n",
              "      <td>0</td>\n",
              "    </tr>\n",
              "    <tr>\n",
              "      <th>4</th>\n",
              "      <td>41.0</td>\n",
              "      <td>0.0</td>\n",
              "      <td>2.0</td>\n",
              "      <td>130.0</td>\n",
              "      <td>204.0</td>\n",
              "      <td>0.0</td>\n",
              "      <td>2.0</td>\n",
              "      <td>172.0</td>\n",
              "      <td>0.0</td>\n",
              "      <td>1.4</td>\n",
              "      <td>1.0</td>\n",
              "      <td>0.0</td>\n",
              "      <td>3.0</td>\n",
              "      <td>0</td>\n",
              "    </tr>\n",
              "  </tbody>\n",
              "</table>\n",
              "</div>"
            ],
            "text/plain": [
              "    age  sex   cp  trestbps   chol  fbs  ...  exang  oldpeak  slope   ca  thal  num\n",
              "0  63.0  1.0  1.0     145.0  233.0  1.0  ...    0.0      2.3    3.0  0.0   6.0    0\n",
              "1  67.0  1.0  4.0     160.0  286.0  0.0  ...    1.0      1.5    2.0  3.0   3.0    2\n",
              "2  67.0  1.0  4.0     120.0  229.0  0.0  ...    1.0      2.6    2.0  2.0   7.0    1\n",
              "3  37.0  1.0  3.0     130.0  250.0  0.0  ...    0.0      3.5    3.0  0.0   3.0    0\n",
              "4  41.0  0.0  2.0     130.0  204.0  0.0  ...    0.0      1.4    1.0  0.0   3.0    0\n",
              "\n",
              "[5 rows x 14 columns]"
            ]
          },
          "metadata": {
            "tags": []
          },
          "execution_count": 12
        }
      ]
    },
    {
      "cell_type": "markdown",
      "metadata": {
        "id": "eZZce-H0myn8",
        "colab_type": "text"
      },
      "source": [
        "Pronto, já temos nosso dataset estruturado, vamos deixar ele no formato csv."
      ]
    },
    {
      "cell_type": "code",
      "metadata": {
        "id": "MBzJd8pHnEpu",
        "colab_type": "code",
        "colab": {}
      },
      "source": [
        "dados.to_csv(\"doencas_cardiacas.csv\", index = False)"
      ],
      "execution_count": null,
      "outputs": []
    },
    {
      "cell_type": "markdown",
      "metadata": {
        "id": "Yi67vjWXnnoA",
        "colab_type": "text"
      },
      "source": [
        "## Processamento dos dados"
      ]
    },
    {
      "cell_type": "code",
      "metadata": {
        "id": "EAqiQpC7Rkuk",
        "colab_type": "code",
        "colab": {
          "base_uri": "https://localhost:8080/",
          "height": 71
        },
        "outputId": "867d662d-080c-403e-889e-6d929990bbc4"
      },
      "source": [
        "#importando bibiliotecas úteis para esse projeto\n",
        "\n",
        "import pandas as pd\n",
        "import matplotlib.pyplot as plt\n",
        "import numpy as np\n",
        "import seaborn as sns\n",
        "import pandas as pd "
      ],
      "execution_count": null,
      "outputs": [
        {
          "output_type": "stream",
          "text": [
            "/usr/local/lib/python3.6/dist-packages/statsmodels/tools/_testing.py:19: FutureWarning: pandas.util.testing is deprecated. Use the functions in the public API at pandas.testing instead.\n",
            "  import pandas.util.testing as tm\n"
          ],
          "name": "stderr"
        }
      ]
    },
    {
      "cell_type": "code",
      "metadata": {
        "id": "M0-Lgca6gFdx",
        "colab_type": "code",
        "colab": {
          "base_uri": "https://localhost:8080/",
          "height": 204
        },
        "outputId": "0751ec43-4803-4928-8bf7-8fa96877ca8e"
      },
      "source": [
        "# importar dataset da UCI\n",
        "df = pd.read_csv(\"doencas_cardiacas.csv\")\n",
        "\n",
        "# visualizar as primeiras 5 entradas\n",
        "df.head()"
      ],
      "execution_count": null,
      "outputs": [
        {
          "output_type": "execute_result",
          "data": {
            "text/html": [
              "<div>\n",
              "<style scoped>\n",
              "    .dataframe tbody tr th:only-of-type {\n",
              "        vertical-align: middle;\n",
              "    }\n",
              "\n",
              "    .dataframe tbody tr th {\n",
              "        vertical-align: top;\n",
              "    }\n",
              "\n",
              "    .dataframe thead th {\n",
              "        text-align: right;\n",
              "    }\n",
              "</style>\n",
              "<table border=\"1\" class=\"dataframe\">\n",
              "  <thead>\n",
              "    <tr style=\"text-align: right;\">\n",
              "      <th></th>\n",
              "      <th>age</th>\n",
              "      <th>sex</th>\n",
              "      <th>cp</th>\n",
              "      <th>trestbps</th>\n",
              "      <th>chol</th>\n",
              "      <th>fbs</th>\n",
              "      <th>restecg</th>\n",
              "      <th>thalach</th>\n",
              "      <th>exang</th>\n",
              "      <th>oldpeak</th>\n",
              "      <th>slope</th>\n",
              "      <th>ca</th>\n",
              "      <th>thal</th>\n",
              "      <th>num</th>\n",
              "    </tr>\n",
              "  </thead>\n",
              "  <tbody>\n",
              "    <tr>\n",
              "      <th>0</th>\n",
              "      <td>63.0</td>\n",
              "      <td>1.0</td>\n",
              "      <td>1.0</td>\n",
              "      <td>145.0</td>\n",
              "      <td>233.0</td>\n",
              "      <td>1.0</td>\n",
              "      <td>2.0</td>\n",
              "      <td>150.0</td>\n",
              "      <td>0.0</td>\n",
              "      <td>2.3</td>\n",
              "      <td>3.0</td>\n",
              "      <td>0.0</td>\n",
              "      <td>6.0</td>\n",
              "      <td>0</td>\n",
              "    </tr>\n",
              "    <tr>\n",
              "      <th>1</th>\n",
              "      <td>67.0</td>\n",
              "      <td>1.0</td>\n",
              "      <td>4.0</td>\n",
              "      <td>160.0</td>\n",
              "      <td>286.0</td>\n",
              "      <td>0.0</td>\n",
              "      <td>2.0</td>\n",
              "      <td>108.0</td>\n",
              "      <td>1.0</td>\n",
              "      <td>1.5</td>\n",
              "      <td>2.0</td>\n",
              "      <td>3.0</td>\n",
              "      <td>3.0</td>\n",
              "      <td>2</td>\n",
              "    </tr>\n",
              "    <tr>\n",
              "      <th>2</th>\n",
              "      <td>67.0</td>\n",
              "      <td>1.0</td>\n",
              "      <td>4.0</td>\n",
              "      <td>120.0</td>\n",
              "      <td>229.0</td>\n",
              "      <td>0.0</td>\n",
              "      <td>2.0</td>\n",
              "      <td>129.0</td>\n",
              "      <td>1.0</td>\n",
              "      <td>2.6</td>\n",
              "      <td>2.0</td>\n",
              "      <td>2.0</td>\n",
              "      <td>7.0</td>\n",
              "      <td>1</td>\n",
              "    </tr>\n",
              "    <tr>\n",
              "      <th>3</th>\n",
              "      <td>37.0</td>\n",
              "      <td>1.0</td>\n",
              "      <td>3.0</td>\n",
              "      <td>130.0</td>\n",
              "      <td>250.0</td>\n",
              "      <td>0.0</td>\n",
              "      <td>0.0</td>\n",
              "      <td>187.0</td>\n",
              "      <td>0.0</td>\n",
              "      <td>3.5</td>\n",
              "      <td>3.0</td>\n",
              "      <td>0.0</td>\n",
              "      <td>3.0</td>\n",
              "      <td>0</td>\n",
              "    </tr>\n",
              "    <tr>\n",
              "      <th>4</th>\n",
              "      <td>41.0</td>\n",
              "      <td>0.0</td>\n",
              "      <td>2.0</td>\n",
              "      <td>130.0</td>\n",
              "      <td>204.0</td>\n",
              "      <td>0.0</td>\n",
              "      <td>2.0</td>\n",
              "      <td>172.0</td>\n",
              "      <td>0.0</td>\n",
              "      <td>1.4</td>\n",
              "      <td>1.0</td>\n",
              "      <td>0.0</td>\n",
              "      <td>3.0</td>\n",
              "      <td>0</td>\n",
              "    </tr>\n",
              "  </tbody>\n",
              "</table>\n",
              "</div>"
            ],
            "text/plain": [
              "    age  sex   cp  trestbps   chol  fbs  ...  exang  oldpeak  slope   ca  thal  num\n",
              "0  63.0  1.0  1.0     145.0  233.0  1.0  ...    0.0      2.3    3.0  0.0   6.0    0\n",
              "1  67.0  1.0  4.0     160.0  286.0  0.0  ...    1.0      1.5    2.0  3.0   3.0    2\n",
              "2  67.0  1.0  4.0     120.0  229.0  0.0  ...    1.0      2.6    2.0  2.0   7.0    1\n",
              "3  37.0  1.0  3.0     130.0  250.0  0.0  ...    0.0      3.5    3.0  0.0   3.0    0\n",
              "4  41.0  0.0  2.0     130.0  204.0  0.0  ...    0.0      1.4    1.0  0.0   3.0    0\n",
              "\n",
              "[5 rows x 14 columns]"
            ]
          },
          "metadata": {
            "tags": []
          },
          "execution_count": 3
        }
      ]
    },
    {
      "cell_type": "markdown",
      "metadata": {
        "id": "XcJ6lCSIJ82t",
        "colab_type": "text"
      },
      "source": [
        "Vou mudar os nomes das colunas para o seu significado na língua portuguesa"
      ]
    },
    {
      "cell_type": "code",
      "metadata": {
        "id": "UwykhuurKFr7",
        "colab_type": "code",
        "colab": {
          "base_uri": "https://localhost:8080/",
          "height": 224
        },
        "outputId": "54c3252f-c6a7-453b-d8dd-1f8e89f78852"
      },
      "source": [
        "df.columns = [\"idade\", \"sexo\", \"dor_no_peito\", \"pressao_arterial\", \"colestoral_serico\", \"acucar_no_sangue\", \"eletrocardiograficos\",\n",
        "              \"freq_cardiaca_max\", \"angina\", \"depressao_ST\", \"inclinacao\", \"vasos_principais_coloridos\", \"thal\", \"diagnostico\"]  \n",
        "\n",
        "\n",
        "df.head()"
      ],
      "execution_count": null,
      "outputs": [
        {
          "output_type": "execute_result",
          "data": {
            "text/html": [
              "<div>\n",
              "<style scoped>\n",
              "    .dataframe tbody tr th:only-of-type {\n",
              "        vertical-align: middle;\n",
              "    }\n",
              "\n",
              "    .dataframe tbody tr th {\n",
              "        vertical-align: top;\n",
              "    }\n",
              "\n",
              "    .dataframe thead th {\n",
              "        text-align: right;\n",
              "    }\n",
              "</style>\n",
              "<table border=\"1\" class=\"dataframe\">\n",
              "  <thead>\n",
              "    <tr style=\"text-align: right;\">\n",
              "      <th></th>\n",
              "      <th>idade</th>\n",
              "      <th>sexo</th>\n",
              "      <th>dor_no_peito</th>\n",
              "      <th>pressao_arterial</th>\n",
              "      <th>colestoral_serico</th>\n",
              "      <th>acucar_no_sangue</th>\n",
              "      <th>eletrocardiograficos</th>\n",
              "      <th>freq_cardiaca_max</th>\n",
              "      <th>angina</th>\n",
              "      <th>depressao_ST</th>\n",
              "      <th>inclinacao</th>\n",
              "      <th>vasos_principais_coloridos</th>\n",
              "      <th>thal</th>\n",
              "      <th>diagnostico</th>\n",
              "    </tr>\n",
              "  </thead>\n",
              "  <tbody>\n",
              "    <tr>\n",
              "      <th>0</th>\n",
              "      <td>63.0</td>\n",
              "      <td>1.0</td>\n",
              "      <td>1.0</td>\n",
              "      <td>145.0</td>\n",
              "      <td>233.0</td>\n",
              "      <td>1.0</td>\n",
              "      <td>2.0</td>\n",
              "      <td>150.0</td>\n",
              "      <td>0.0</td>\n",
              "      <td>2.3</td>\n",
              "      <td>3.0</td>\n",
              "      <td>0.0</td>\n",
              "      <td>6.0</td>\n",
              "      <td>0</td>\n",
              "    </tr>\n",
              "    <tr>\n",
              "      <th>1</th>\n",
              "      <td>67.0</td>\n",
              "      <td>1.0</td>\n",
              "      <td>4.0</td>\n",
              "      <td>160.0</td>\n",
              "      <td>286.0</td>\n",
              "      <td>0.0</td>\n",
              "      <td>2.0</td>\n",
              "      <td>108.0</td>\n",
              "      <td>1.0</td>\n",
              "      <td>1.5</td>\n",
              "      <td>2.0</td>\n",
              "      <td>3.0</td>\n",
              "      <td>3.0</td>\n",
              "      <td>2</td>\n",
              "    </tr>\n",
              "    <tr>\n",
              "      <th>2</th>\n",
              "      <td>67.0</td>\n",
              "      <td>1.0</td>\n",
              "      <td>4.0</td>\n",
              "      <td>120.0</td>\n",
              "      <td>229.0</td>\n",
              "      <td>0.0</td>\n",
              "      <td>2.0</td>\n",
              "      <td>129.0</td>\n",
              "      <td>1.0</td>\n",
              "      <td>2.6</td>\n",
              "      <td>2.0</td>\n",
              "      <td>2.0</td>\n",
              "      <td>7.0</td>\n",
              "      <td>1</td>\n",
              "    </tr>\n",
              "    <tr>\n",
              "      <th>3</th>\n",
              "      <td>37.0</td>\n",
              "      <td>1.0</td>\n",
              "      <td>3.0</td>\n",
              "      <td>130.0</td>\n",
              "      <td>250.0</td>\n",
              "      <td>0.0</td>\n",
              "      <td>0.0</td>\n",
              "      <td>187.0</td>\n",
              "      <td>0.0</td>\n",
              "      <td>3.5</td>\n",
              "      <td>3.0</td>\n",
              "      <td>0.0</td>\n",
              "      <td>3.0</td>\n",
              "      <td>0</td>\n",
              "    </tr>\n",
              "    <tr>\n",
              "      <th>4</th>\n",
              "      <td>41.0</td>\n",
              "      <td>0.0</td>\n",
              "      <td>2.0</td>\n",
              "      <td>130.0</td>\n",
              "      <td>204.0</td>\n",
              "      <td>0.0</td>\n",
              "      <td>2.0</td>\n",
              "      <td>172.0</td>\n",
              "      <td>0.0</td>\n",
              "      <td>1.4</td>\n",
              "      <td>1.0</td>\n",
              "      <td>0.0</td>\n",
              "      <td>3.0</td>\n",
              "      <td>0</td>\n",
              "    </tr>\n",
              "  </tbody>\n",
              "</table>\n",
              "</div>"
            ],
            "text/plain": [
              "   idade  sexo  dor_no_peito  ...  vasos_principais_coloridos  thal  diagnostico\n",
              "0   63.0   1.0           1.0  ...                         0.0   6.0            0\n",
              "1   67.0   1.0           4.0  ...                         3.0   3.0            2\n",
              "2   67.0   1.0           4.0  ...                         2.0   7.0            1\n",
              "3   37.0   1.0           3.0  ...                         0.0   3.0            0\n",
              "4   41.0   0.0           2.0  ...                         0.0   3.0            0\n",
              "\n",
              "[5 rows x 14 columns]"
            ]
          },
          "metadata": {
            "tags": []
          },
          "execution_count": 4
        }
      ]
    },
    {
      "cell_type": "markdown",
      "metadata": {
        "id": "mKE3KSRPNYFz",
        "colab_type": "text"
      },
      "source": [
        "Informações sobre atributos:\n",
        "\n",
        "\n",
        "1. Idade: idade em anos do indivíduo \n",
        "2. Sexo: sexo do indivíduo (1 = masculino; 0 = feminino)\n",
        "\n",
        "3. Dor_no_peito: \n",
        "- Valor 1: angina típica\n",
        "- Valor 2: angina atípica\n",
        "- Valor 3: dor não anginal\n",
        "- Valor 4: sem sintomas \n",
        "\n",
        "4. Pressao_arterial: pressão arterial em repouso (em mm Hg na admissão no hospital)\n",
        "5. Colasterol_serico: colestoral sérico em mg / dl\n",
        "6. Acucar_no_sangue: (açúcar no sangue em jejum> 120 mg / dl) (1 = verdadeiro; 0 = falso)\n",
        "7. Eletrocardiograficos:  resultados eletrocardiográficos em repouso\n",
        "- Valor 0: normal\n",
        "- Valor 1: com anormalidade da onda ST-T (inversões da onda T e / ou elevação ou depressão do ST>> 0,05 mV)\n",
        "- Valor 2: mostrando hipertrofia provável ou definitiva do ventrículo esquerdo pelos critérios de Estes\n",
        "\n",
        "8. Freq_cardiaca_max\t: freqüência cardíaca máxima alcançada\n",
        "9. Angina: angina induzida pelo exercício (1 = sim; 0 = não)\n",
        "10. Depressao_ST: depressão do ST induzida pelo exercício em relação ao repouso\n",
        "\n",
        "11. Inclinacao: a inclinação do pico do exercício segmento ST\n",
        "- Valor 1: subida\n",
        "- Valor 2: plano\n",
        "- Valor 3 : descida 42 rldv5: altura em repouso\n",
        "\n",
        "12. Vasos_principais_coloridos:  número de vasos principais (0-3) coloridos por flourosopy\n",
        "13. Thal: 3 = normal; 6 = defeito fixo; 7 = defeito reversível\n",
        "14. Diagnosico: diagnóstico de doença cardíaca"
      ]
    },
    {
      "cell_type": "markdown",
      "metadata": {
        "id": "GAfJac0Un6q0",
        "colab_type": "text"
      },
      "source": [
        "O atributo \"diagnostico\" será nossa variável dependente, ou seja, o objetivo é descobrir se uma pessoa com determinadas características possui ou não doença cardiáca."
      ]
    },
    {
      "cell_type": "code",
      "metadata": {
        "id": "eP8Q_w_1cStc",
        "colab_type": "code",
        "colab": {
          "base_uri": "https://localhost:8080/",
          "height": 34
        },
        "outputId": "0617b372-2ed3-4aae-c43b-87de88d76d47"
      },
      "source": [
        "#vendo os valores únicos da variável dependente\n",
        "df['diagnostico'].unique()"
      ],
      "execution_count": null,
      "outputs": [
        {
          "output_type": "execute_result",
          "data": {
            "text/plain": [
              "array([0, 2, 1, 3, 4])"
            ]
          },
          "metadata": {
            "tags": []
          },
          "execution_count": 5
        }
      ]
    },
    {
      "cell_type": "markdown",
      "metadata": {
        "id": "4nenGTjgovs-",
        "colab_type": "text"
      },
      "source": [
        "Apesar de termos 5 valores de 0 a 1, nesse projeto só me interessa saber se a pessoa sofre ou não de doença cardiáca. Sendo os valores 1,2,3 e 4 deterministicos para classificar a pessoa com doença cardiáca, irei transformar esses valores em um só número.\n",
        "\n",
        "*   0 = Não tem doença cardiáca \n",
        "*   1 = Tem doença cardiáca. Item da lista\n"
      ]
    },
    {
      "cell_type": "code",
      "metadata": {
        "id": "jEO8OOyxqJzY",
        "colab_type": "code",
        "colab": {}
      },
      "source": [
        "#convertendo valores\n",
        "\n",
        "df.loc[df.diagnostico != 0, 'diagnostico'] = 1"
      ],
      "execution_count": null,
      "outputs": []
    },
    {
      "cell_type": "markdown",
      "metadata": {
        "id": "gonMlyrUrWN3",
        "colab_type": "text"
      },
      "source": [
        "Vamos ver se estamos diante de um dataset balanceado"
      ]
    },
    {
      "cell_type": "code",
      "metadata": {
        "id": "YSJNcUB6rdoE",
        "colab_type": "code",
        "colab": {
          "base_uri": "https://localhost:8080/",
          "height": 68
        },
        "outputId": "01c161e6-bcbb-4fe7-9588-d9b271075a21"
      },
      "source": [
        "df.diagnostico.value_counts()\n",
        "\n",
        "#percebemos que é balanceado"
      ],
      "execution_count": null,
      "outputs": [
        {
          "output_type": "execute_result",
          "data": {
            "text/plain": [
              "0    164\n",
              "1    139\n",
              "Name: diagnostico, dtype: int64"
            ]
          },
          "metadata": {
            "tags": []
          },
          "execution_count": 7
        }
      ]
    },
    {
      "cell_type": "markdown",
      "metadata": {
        "id": "Uf4rP_6rrwQz",
        "colab_type": "text"
      },
      "source": [
        "# Análises básicas do DataFrame"
      ]
    },
    {
      "cell_type": "code",
      "metadata": {
        "id": "NSx-E7ckr2wh",
        "colab_type": "code",
        "colab": {
          "base_uri": "https://localhost:8080/",
          "height": 34
        },
        "outputId": "1c78d075-7cce-4c09-cae8-85b9060fe0df"
      },
      "source": [
        "#obtendo o tamanho do dataframe\n",
        "df.shape"
      ],
      "execution_count": null,
      "outputs": [
        {
          "output_type": "execute_result",
          "data": {
            "text/plain": [
              "(303, 14)"
            ]
          },
          "metadata": {
            "tags": []
          },
          "execution_count": 8
        }
      ]
    },
    {
      "cell_type": "code",
      "metadata": {
        "id": "Q6mHqeEJshpR",
        "colab_type": "code",
        "colab": {
          "base_uri": "https://localhost:8080/",
          "height": 272
        },
        "outputId": "7fe01fb9-7a5e-4b43-b4a4-eb1d7ef6e4e5"
      },
      "source": [
        "#verificar a existência de valores nulos\n",
        "\n",
        "df.isnull().sum()"
      ],
      "execution_count": null,
      "outputs": [
        {
          "output_type": "execute_result",
          "data": {
            "text/plain": [
              "idade                         0\n",
              "sexo                          0\n",
              "dor_no_peito                  0\n",
              "pressao_arterial              0\n",
              "colestoral_serico             0\n",
              "acucar_no_sangue              0\n",
              "eletrocardiograficos          0\n",
              "freq_cardiaca_max             0\n",
              "angina                        0\n",
              "depressao_ST                  0\n",
              "inclinacao                    0\n",
              "vasos_principais_coloridos    4\n",
              "thal                          2\n",
              "diagnostico                   0\n",
              "dtype: int64"
            ]
          },
          "metadata": {
            "tags": []
          },
          "execution_count": 9
        }
      ]
    },
    {
      "cell_type": "code",
      "metadata": {
        "id": "6bur-iA3tTAT",
        "colab_type": "code",
        "colab": {
          "base_uri": "https://localhost:8080/",
          "height": 193
        },
        "outputId": "47a58d98-689a-4554-e1c6-19f4897cbbb9"
      },
      "source": [
        "# verificando os valores ausentes de vasos_principais_coloridos\n",
        "\n",
        "df[df['vasos_principais_coloridos'].isnull()]"
      ],
      "execution_count": null,
      "outputs": [
        {
          "output_type": "execute_result",
          "data": {
            "text/html": [
              "<div>\n",
              "<style scoped>\n",
              "    .dataframe tbody tr th:only-of-type {\n",
              "        vertical-align: middle;\n",
              "    }\n",
              "\n",
              "    .dataframe tbody tr th {\n",
              "        vertical-align: top;\n",
              "    }\n",
              "\n",
              "    .dataframe thead th {\n",
              "        text-align: right;\n",
              "    }\n",
              "</style>\n",
              "<table border=\"1\" class=\"dataframe\">\n",
              "  <thead>\n",
              "    <tr style=\"text-align: right;\">\n",
              "      <th></th>\n",
              "      <th>idade</th>\n",
              "      <th>sexo</th>\n",
              "      <th>dor_no_peito</th>\n",
              "      <th>pressao_arterial</th>\n",
              "      <th>colestoral_serico</th>\n",
              "      <th>acucar_no_sangue</th>\n",
              "      <th>eletrocardiograficos</th>\n",
              "      <th>freq_cardiaca_max</th>\n",
              "      <th>angina</th>\n",
              "      <th>depressao_ST</th>\n",
              "      <th>inclinacao</th>\n",
              "      <th>vasos_principais_coloridos</th>\n",
              "      <th>thal</th>\n",
              "      <th>diagnostico</th>\n",
              "    </tr>\n",
              "  </thead>\n",
              "  <tbody>\n",
              "    <tr>\n",
              "      <th>166</th>\n",
              "      <td>52.0</td>\n",
              "      <td>1.0</td>\n",
              "      <td>3.0</td>\n",
              "      <td>138.0</td>\n",
              "      <td>223.0</td>\n",
              "      <td>0.0</td>\n",
              "      <td>0.0</td>\n",
              "      <td>169.0</td>\n",
              "      <td>0.0</td>\n",
              "      <td>0.0</td>\n",
              "      <td>1.0</td>\n",
              "      <td>NaN</td>\n",
              "      <td>3.0</td>\n",
              "      <td>0</td>\n",
              "    </tr>\n",
              "    <tr>\n",
              "      <th>192</th>\n",
              "      <td>43.0</td>\n",
              "      <td>1.0</td>\n",
              "      <td>4.0</td>\n",
              "      <td>132.0</td>\n",
              "      <td>247.0</td>\n",
              "      <td>1.0</td>\n",
              "      <td>2.0</td>\n",
              "      <td>143.0</td>\n",
              "      <td>1.0</td>\n",
              "      <td>0.1</td>\n",
              "      <td>2.0</td>\n",
              "      <td>NaN</td>\n",
              "      <td>7.0</td>\n",
              "      <td>1</td>\n",
              "    </tr>\n",
              "    <tr>\n",
              "      <th>287</th>\n",
              "      <td>58.0</td>\n",
              "      <td>1.0</td>\n",
              "      <td>2.0</td>\n",
              "      <td>125.0</td>\n",
              "      <td>220.0</td>\n",
              "      <td>0.0</td>\n",
              "      <td>0.0</td>\n",
              "      <td>144.0</td>\n",
              "      <td>0.0</td>\n",
              "      <td>0.4</td>\n",
              "      <td>2.0</td>\n",
              "      <td>NaN</td>\n",
              "      <td>7.0</td>\n",
              "      <td>0</td>\n",
              "    </tr>\n",
              "    <tr>\n",
              "      <th>302</th>\n",
              "      <td>38.0</td>\n",
              "      <td>1.0</td>\n",
              "      <td>3.0</td>\n",
              "      <td>138.0</td>\n",
              "      <td>175.0</td>\n",
              "      <td>0.0</td>\n",
              "      <td>0.0</td>\n",
              "      <td>173.0</td>\n",
              "      <td>0.0</td>\n",
              "      <td>0.0</td>\n",
              "      <td>1.0</td>\n",
              "      <td>NaN</td>\n",
              "      <td>3.0</td>\n",
              "      <td>0</td>\n",
              "    </tr>\n",
              "  </tbody>\n",
              "</table>\n",
              "</div>"
            ],
            "text/plain": [
              "     idade  sexo  dor_no_peito  ...  vasos_principais_coloridos  thal  diagnostico\n",
              "166   52.0   1.0           3.0  ...                         NaN   3.0            0\n",
              "192   43.0   1.0           4.0  ...                         NaN   7.0            1\n",
              "287   58.0   1.0           2.0  ...                         NaN   7.0            0\n",
              "302   38.0   1.0           3.0  ...                         NaN   3.0            0\n",
              "\n",
              "[4 rows x 14 columns]"
            ]
          },
          "metadata": {
            "tags": []
          },
          "execution_count": 10
        }
      ]
    },
    {
      "cell_type": "markdown",
      "metadata": {
        "id": "Nty_b_D-t5Mt",
        "colab_type": "text"
      },
      "source": [
        "Esses pacientes não possuem resultado do teste de vasos coloridos por fluoroscopia, e apenas um foi diagnosticado com doença cardiovascular."
      ]
    },
    {
      "cell_type": "code",
      "metadata": {
        "id": "h-T-dH55tYuN",
        "colab_type": "code",
        "colab": {
          "base_uri": "https://localhost:8080/",
          "height": 131
        },
        "outputId": "624b9dca-48ba-4fc2-d26c-afb1a0223bba"
      },
      "source": [
        "#verificando os valores ausentes de thal\n",
        "\n",
        "df[df['thal'].isnull()]"
      ],
      "execution_count": null,
      "outputs": [
        {
          "output_type": "execute_result",
          "data": {
            "text/html": [
              "<div>\n",
              "<style scoped>\n",
              "    .dataframe tbody tr th:only-of-type {\n",
              "        vertical-align: middle;\n",
              "    }\n",
              "\n",
              "    .dataframe tbody tr th {\n",
              "        vertical-align: top;\n",
              "    }\n",
              "\n",
              "    .dataframe thead th {\n",
              "        text-align: right;\n",
              "    }\n",
              "</style>\n",
              "<table border=\"1\" class=\"dataframe\">\n",
              "  <thead>\n",
              "    <tr style=\"text-align: right;\">\n",
              "      <th></th>\n",
              "      <th>idade</th>\n",
              "      <th>sexo</th>\n",
              "      <th>dor_no_peito</th>\n",
              "      <th>pressao_arterial</th>\n",
              "      <th>colestoral_serico</th>\n",
              "      <th>acucar_no_sangue</th>\n",
              "      <th>eletrocardiograficos</th>\n",
              "      <th>freq_cardiaca_max</th>\n",
              "      <th>angina</th>\n",
              "      <th>depressao_ST</th>\n",
              "      <th>inclinacao</th>\n",
              "      <th>vasos_principais_coloridos</th>\n",
              "      <th>thal</th>\n",
              "      <th>diagnostico</th>\n",
              "    </tr>\n",
              "  </thead>\n",
              "  <tbody>\n",
              "    <tr>\n",
              "      <th>87</th>\n",
              "      <td>53.0</td>\n",
              "      <td>0.0</td>\n",
              "      <td>3.0</td>\n",
              "      <td>128.0</td>\n",
              "      <td>216.0</td>\n",
              "      <td>0.0</td>\n",
              "      <td>2.0</td>\n",
              "      <td>115.0</td>\n",
              "      <td>0.0</td>\n",
              "      <td>0.0</td>\n",
              "      <td>1.0</td>\n",
              "      <td>0.0</td>\n",
              "      <td>NaN</td>\n",
              "      <td>0</td>\n",
              "    </tr>\n",
              "    <tr>\n",
              "      <th>266</th>\n",
              "      <td>52.0</td>\n",
              "      <td>1.0</td>\n",
              "      <td>4.0</td>\n",
              "      <td>128.0</td>\n",
              "      <td>204.0</td>\n",
              "      <td>1.0</td>\n",
              "      <td>0.0</td>\n",
              "      <td>156.0</td>\n",
              "      <td>1.0</td>\n",
              "      <td>1.0</td>\n",
              "      <td>2.0</td>\n",
              "      <td>0.0</td>\n",
              "      <td>NaN</td>\n",
              "      <td>1</td>\n",
              "    </tr>\n",
              "  </tbody>\n",
              "</table>\n",
              "</div>"
            ],
            "text/plain": [
              "     idade  sexo  dor_no_peito  ...  vasos_principais_coloridos  thal  diagnostico\n",
              "87    53.0   0.0           3.0  ...                         0.0   NaN            0\n",
              "266   52.0   1.0           4.0  ...                         0.0   NaN            1\n",
              "\n",
              "[2 rows x 14 columns]"
            ]
          },
          "metadata": {
            "tags": []
          },
          "execution_count": 11
        }
      ]
    },
    {
      "cell_type": "markdown",
      "metadata": {
        "id": "3khuPfH4uJLy",
        "colab_type": "text"
      },
      "source": [
        "Perceba que não são os mesmos pacientes que possuem o valor nulo em thal, mas desses apenas um foi diagnosticado com doença cardiovascular."
      ]
    },
    {
      "cell_type": "markdown",
      "metadata": {
        "id": "hyACbq2cubCn",
        "colab_type": "text"
      },
      "source": [
        "Por existir poucos valores nulos comparado a quantidade de dados existentes no dataframe, além das informações sobre saúde serem extremamente sensíveis pela sua particulariade, irei optar por excluir os valores nulos, já que não interferem muito no conjunto."
      ]
    },
    {
      "cell_type": "code",
      "metadata": {
        "id": "oVm6arOmvBeA",
        "colab_type": "code",
        "colab": {}
      },
      "source": [
        "# excluindo os valores ausentes\n",
        "df.dropna(subset = ['vasos_principais_coloridos'], inplace = True)\n",
        "df.dropna(subset = ['thal'], inplace = True)"
      ],
      "execution_count": null,
      "outputs": []
    },
    {
      "cell_type": "code",
      "metadata": {
        "id": "roY8X69DwM0F",
        "colab_type": "code",
        "colab": {
          "base_uri": "https://localhost:8080/",
          "height": 34
        },
        "outputId": "887340b6-ec36-464b-b60c-c442f244045d"
      },
      "source": [
        "#novo tamanho do df\n",
        "\n",
        "df.shape"
      ],
      "execution_count": null,
      "outputs": [
        {
          "output_type": "execute_result",
          "data": {
            "text/plain": [
              "(297, 14)"
            ]
          },
          "metadata": {
            "tags": []
          },
          "execution_count": 13
        }
      ]
    },
    {
      "cell_type": "markdown",
      "metadata": {
        "id": "Wu0r44Qgxzqb",
        "colab_type": "text"
      },
      "source": [
        "Agora vamos verificar se o novo dataset continua balanceado e quais variáveis realmente influenciam o diagnóstico de doença cardiovascular."
      ]
    },
    {
      "cell_type": "code",
      "metadata": {
        "id": "jUE28OE1xzD0",
        "colab_type": "code",
        "colab": {
          "base_uri": "https://localhost:8080/",
          "height": 34
        },
        "outputId": "5a95f89a-eb0f-40dd-cc68-94611bc290c1"
      },
      "source": [
        "# instalando pacote waffle\n",
        "!pip install pywaffle -q\n",
        "from pywaffle import Waffle"
      ],
      "execution_count": null,
      "outputs": [
        {
          "output_type": "stream",
          "text": [
            "\u001b[?25l\r\u001b[K     |▋                               | 10kB 20.9MB/s eta 0:00:01\r\u001b[K     |█▎                              | 20kB 1.8MB/s eta 0:00:01\r\u001b[K     |█▉                              | 30kB 2.3MB/s eta 0:00:01\r\u001b[K     |██▌                             | 40kB 2.6MB/s eta 0:00:01\r\u001b[K     |███                             | 51kB 2.0MB/s eta 0:00:01\r\u001b[K     |███▊                            | 61kB 2.3MB/s eta 0:00:01\r\u001b[K     |████▍                           | 71kB 2.5MB/s eta 0:00:01\r\u001b[K     |█████                           | 81kB 2.8MB/s eta 0:00:01\r\u001b[K     |█████▋                          | 92kB 2.9MB/s eta 0:00:01\r\u001b[K     |██████▏                         | 102kB 2.8MB/s eta 0:00:01\r\u001b[K     |██████▉                         | 112kB 2.8MB/s eta 0:00:01\r\u001b[K     |███████▌                        | 122kB 2.8MB/s eta 0:00:01\r\u001b[K     |████████                        | 133kB 2.8MB/s eta 0:00:01\r\u001b[K     |████████▊                       | 143kB 2.8MB/s eta 0:00:01\r\u001b[K     |█████████▎                      | 153kB 2.8MB/s eta 0:00:01\r\u001b[K     |██████████                      | 163kB 2.8MB/s eta 0:00:01\r\u001b[K     |██████████▋                     | 174kB 2.8MB/s eta 0:00:01\r\u001b[K     |███████████▏                    | 184kB 2.8MB/s eta 0:00:01\r\u001b[K     |███████████▉                    | 194kB 2.8MB/s eta 0:00:01\r\u001b[K     |████████████▍                   | 204kB 2.8MB/s eta 0:00:01\r\u001b[K     |█████████████                   | 215kB 2.8MB/s eta 0:00:01\r\u001b[K     |█████████████▊                  | 225kB 2.8MB/s eta 0:00:01\r\u001b[K     |██████████████▎                 | 235kB 2.8MB/s eta 0:00:01\r\u001b[K     |███████████████                 | 245kB 2.8MB/s eta 0:00:01\r\u001b[K     |███████████████▌                | 256kB 2.8MB/s eta 0:00:01\r\u001b[K     |████████████████▏               | 266kB 2.8MB/s eta 0:00:01\r\u001b[K     |████████████████▉               | 276kB 2.8MB/s eta 0:00:01\r\u001b[K     |█████████████████▍              | 286kB 2.8MB/s eta 0:00:01\r\u001b[K     |██████████████████              | 296kB 2.8MB/s eta 0:00:01\r\u001b[K     |██████████████████▋             | 307kB 2.8MB/s eta 0:00:01\r\u001b[K     |███████████████████▎            | 317kB 2.8MB/s eta 0:00:01\r\u001b[K     |████████████████████            | 327kB 2.8MB/s eta 0:00:01\r\u001b[K     |████████████████████▌           | 337kB 2.8MB/s eta 0:00:01\r\u001b[K     |█████████████████████▏          | 348kB 2.8MB/s eta 0:00:01\r\u001b[K     |█████████████████████▊          | 358kB 2.8MB/s eta 0:00:01\r\u001b[K     |██████████████████████▍         | 368kB 2.8MB/s eta 0:00:01\r\u001b[K     |███████████████████████         | 378kB 2.8MB/s eta 0:00:01\r\u001b[K     |███████████████████████▋        | 389kB 2.8MB/s eta 0:00:01\r\u001b[K     |████████████████████████▎       | 399kB 2.8MB/s eta 0:00:01\r\u001b[K     |████████████████████████▉       | 409kB 2.8MB/s eta 0:00:01\r\u001b[K     |█████████████████████████▌      | 419kB 2.8MB/s eta 0:00:01\r\u001b[K     |██████████████████████████▏     | 430kB 2.8MB/s eta 0:00:01\r\u001b[K     |██████████████████████████▊     | 440kB 2.8MB/s eta 0:00:01\r\u001b[K     |███████████████████████████▍    | 450kB 2.8MB/s eta 0:00:01\r\u001b[K     |████████████████████████████    | 460kB 2.8MB/s eta 0:00:01\r\u001b[K     |████████████████████████████▋   | 471kB 2.8MB/s eta 0:00:01\r\u001b[K     |█████████████████████████████▎  | 481kB 2.8MB/s eta 0:00:01\r\u001b[K     |█████████████████████████████▉  | 491kB 2.8MB/s eta 0:00:01\r\u001b[K     |██████████████████████████████▌ | 501kB 2.8MB/s eta 0:00:01\r\u001b[K     |███████████████████████████████ | 512kB 2.8MB/s eta 0:00:01\r\u001b[K     |███████████████████████████████▊| 522kB 2.8MB/s eta 0:00:01\r\u001b[K     |████████████████████████████████| 532kB 2.8MB/s \n",
            "\u001b[?25h"
          ],
          "name": "stdout"
        }
      ]
    },
    {
      "cell_type": "code",
      "metadata": {
        "id": "-8a25XebzT1w",
        "colab_type": "code",
        "colab": {
          "base_uri": "https://localhost:8080/",
          "height": 68
        },
        "outputId": "fb85f563-12ae-476d-8c5f-d40ddf9d904f"
      },
      "source": [
        "# quantidade de pessoas que possuem e não possuem a doença \n",
        "num = df['diagnostico'].value_counts()\n",
        "num"
      ],
      "execution_count": null,
      "outputs": [
        {
          "output_type": "execute_result",
          "data": {
            "text/plain": [
              "0    160\n",
              "1    137\n",
              "Name: diagnostico, dtype: int64"
            ]
          },
          "metadata": {
            "tags": []
          },
          "execution_count": 15
        }
      ]
    },
    {
      "cell_type": "code",
      "metadata": {
        "id": "nOlrrkKNzqde",
        "colab_type": "code",
        "colab": {
          "base_uri": "https://localhost:8080/",
          "height": 199
        },
        "outputId": "76fe1826-3fb5-49dd-f585-1e634f25c16c"
      },
      "source": [
        "# plotar gráfico de waffle\n",
        "fig = plt.figure(\n",
        "                FigureClass=Waffle,\n",
        "                rows=3,\n",
        "                columns=11,\n",
        "                colors=(\"#DC5050\",\"#390101\"),\n",
        "                title={'label': 'Proporção de diagnósticos de doenças cardíacas',  'fontsize': 16},\n",
        "                values=num, icons='heartbeat', icon_size=30, labels=('Não há doença cardíaca','Há doença cardíaca'),\n",
        "                legend={'loc': 'upper left', 'bbox_to_anchor': (1,1), 'fontsize': 12},\n",
        "                icon_legend=True,\n",
        "                figsize=(10,6))\n",
        "fig.set_tight_layout(False)\n",
        "plt.show();"
      ],
      "execution_count": null,
      "outputs": [
        {
          "output_type": "display_data",
          "data": {
            "image/png": "[encoded data removed]",
            "text/plain": [
              "<Waffle size 720x432 with 1 Axes>"
            ]
          },
          "metadata": {
            "tags": [],
            "needs_background": "light"
          }
        }
      ]
    },
    {
      "cell_type": "code",
      "metadata": {
        "id": "SPBCux4hzzu-",
        "colab_type": "code",
        "colab": {
          "base_uri": "https://localhost:8080/",
          "height": 51
        },
        "outputId": "a440ccca-0cc4-4499-eaa1-e48be582e284"
      },
      "source": [
        "print('Proporção de pacientes sem doença cardíaca:\\t {}%'.format(((df['diagnostico'].value_counts()[0]/df.shape[0])*100).round(2)))\n",
        "print('Proporção de pacientes com doença cardíaca:\\t {}%'.format(((df['diagnostico'].value_counts()[1]/df.shape[0])*100).round(2)))"
      ],
      "execution_count": null,
      "outputs": [
        {
          "output_type": "stream",
          "text": [
            "Proporção de pacientes sem doença cardíaca:\t 53.87%\n",
            "Proporção de pacientes com doença cardíaca:\t 46.13%\n"
          ],
          "name": "stdout"
        }
      ]
    },
    {
      "cell_type": "markdown",
      "metadata": {
        "id": "vqAdindFzGjG",
        "colab_type": "text"
      },
      "source": [
        "Chegamos a conclusão que o dataset está balanceado, visto que não há grande diferença entre as categorias da variável alvejada. É importante verificar isso pois queremos que nosso algoritmo seja bom em prever ambas situações possíveis, ou seja, ter e não ter doença cardíaca."
      ]
    },
    {
      "cell_type": "code",
      "metadata": {
        "id": "47FGziE11qZT",
        "colab_type": "code",
        "colab": {
          "base_uri": "https://localhost:8080/",
          "height": 606
        },
        "outputId": "5313678e-b60e-4435-c80c-47f73e7d9517"
      },
      "source": [
        "# Mapa de calor\n",
        "fig, ax = plt.subplots(figsize=(16,8))\n",
        "\n",
        "corr = df.corr().round(2)\n",
        "\n",
        "sns.heatmap(corr, cmap='RdBu', linecolor='white', annot=True, vmin=-1.00, vmax= 1.00)\n",
        "ax.set_title('Correlação entre as variáveis', fontsize=16)\n",
        "\n",
        "plt.show();"
      ],
      "execution_count": null,
      "outputs": [
        {
          "output_type": "display_data",
          "data": {
            "image/png": "[encoded data removed]",
            "text/plain": [
              "<Figure size 1152x576 with 2 Axes>"
            ]
          },
          "metadata": {
            "tags": [],
            "needs_background": "light"
          }
        }
      ]
    },
    {
      "cell_type": "markdown",
      "metadata": {
        "id": "eE5z4GPh3Fed",
        "colab_type": "text"
      },
      "source": [
        "De acordo com o gráfico das correlações, é possível observar que a variável acucar_no_sangue, que informa se o índice glicêmico do paciente está elevado ou não, não é correlacionada com a variável num, desta feita, vamos eliminá-la dos dados de entrada do modelo. "
      ]
    },
    {
      "cell_type": "markdown",
      "metadata": {
        "id": "sXISZlDj3JFI",
        "colab_type": "text"
      },
      "source": [
        "## Extraindo informações das variáveis catégoricas "
      ]
    },
    {
      "cell_type": "code",
      "metadata": {
        "id": "B3EYCbXb7AmW",
        "colab_type": "code",
        "colab": {
          "base_uri": "https://localhost:8080/",
          "height": 485
        },
        "outputId": "ef0c4c77-76c4-44e9-d51b-94a62fbdc00c"
      },
      "source": [
        "fig, ax = plt.subplots(nrows=3, ncols=2, figsize=(16,8))\n",
        "fig.subplots_adjust(hspace=0.8, wspace=0.5)\n",
        "\n",
        "# countplot sexo\n",
        "sns.countplot(x='sexo', data=df, hue='diagnostico', ax=ax[0,0])\n",
        "ax[0,0].set_xticklabels(['Mulher','Homem'])\n",
        "ax[0,0].legend(['Não há doença cardíaca','Há doença cardíaca'])\n",
        "ax[0,0].set_ylabel('Ocorrências', fontsize = 12)\n",
        "ax[0,0].set_xlabel('')\n",
        "ax[0,0].set_title('Sexo do paciente', fontsize=14)\n",
        "\n",
        "# countplot dor no peito\n",
        "sns.countplot(x='dor_no_peito', data=df, hue='diagnostico', ax=ax[0,1])\n",
        "ax[0,1].set_xticklabels(['Angina','Angina atípica','Dor não cardíaca','Sem sintomas'])\n",
        "ax[0,1].legend(['Não há doença cardíaca','Há doença cardíaca'])\n",
        "ax[0,1].set_ylabel('Ocorrências', fontsize = 12)\n",
        "ax[0,1].set_xlabel('')\n",
        "ax[0,1].set_title('Tipo de dor torácica', fontsize=14)\n",
        "\n",
        "# countplot eletrocardiográficos\n",
        "sns.countplot(x='eletrocardiograficos', data=df, hue='diagnostico', ax=ax[1,0])\n",
        "ax[1,0].set_xticklabels(['Normal','Anormalidade de ST-T','Hipertrofia ventricular'])\n",
        "ax[1,0].legend(loc='upper center',labels=['Não há doença cardíaca','Há doença cardíaca'])\n",
        "ax[1,0].set_ylabel('Ocorrências', fontsize = 12)\n",
        "ax[1,0].set_xlabel('')\n",
        "ax[1,0].set_title('Resultado da eletrocardiografia', fontsize=14)\n",
        "\n",
        "# countplot angina \n",
        "sns.countplot(x='angina', data=df, hue='diagnostico', ax=ax[1,1])\n",
        "ax[1,1].set_xticklabels(['Sem dor no peito','Com dor no peito'])\n",
        "ax[1,1].legend(['Não há doença cardíaca','Há doença cardíaca'])\n",
        "ax[1,1].set_ylabel('Ocorrências', fontsize = 12)\n",
        "ax[1,1].set_xlabel('')\n",
        "ax[1,1].set_title('Angina induzida pelo exercício', fontsize=14)\n",
        "\n",
        "# countplot inclinação \n",
        "sns.countplot(x='inclinacao', data=df, hue='diagnostico', ax=ax[2,0])\n",
        "ax[2,0].set_xticklabels(['Ascendente','Plana','Descendente'])\n",
        "ax[2,0].legend(['Não há doença cardíaca','Há doença cardíaca'])\n",
        "ax[2,0].set_ylabel('Ocorrências', fontsize = 12)\n",
        "ax[2,0].set_xlabel('')\n",
        "ax[2,0].set_title('Inclinação do segmento ST', fontsize=14)\n",
        "\n",
        "# countplot thal \n",
        "sns.countplot(x='thal', data=df, hue='diagnostico', ax=ax[2,1])\n",
        "ax[2,1].set_xticklabels(['Normal','Defeito fixo','Defeito reversível'])\n",
        "ax[2,1].legend(['Não há doença cardíaca','Há doença cardíaca'])\n",
        "ax[2,1].set_ylabel('Ocorrências', fontsize = 12)\n",
        "ax[2,1].set_xlabel('')\n",
        "ax[2,1].set_title('Teste de stress com tálio', fontsize=14)\n",
        "\n",
        "fig.tight_layout();"
      ],
      "execution_count": null,
      "outputs": [
        {
          "output_type": "display_data",
          "data": {
            "image/png": "[encoded data removed]",
            "text/plain": [
              "<Figure size 1152x576 with 6 Axes>"
            ]
          },
          "metadata": {
            "tags": [],
            "needs_background": "light"
          }
        }
      ]
    },
    {
      "cell_type": "markdown",
      "metadata": {
        "id": "QMdjvXahGYCG",
        "colab_type": "text"
      },
      "source": [
        "## Análise da variáveis númericas"
      ]
    },
    {
      "cell_type": "code",
      "metadata": {
        "id": "bt0zyqFGGgxD",
        "colab_type": "code",
        "colab": {
          "base_uri": "https://localhost:8080/",
          "height": 487
        },
        "outputId": "fdaf0479-7146-4d30-9bb6-69c67a18655a"
      },
      "source": [
        "fig, ax = plt.subplots(nrows=2, ncols=3, figsize=(16,8))\n",
        "fig.subplots_adjust(hspace=0.5, wspace=0.3)\n",
        "\n",
        "# boxplot idade\n",
        "df.boxplot('idade', ax=ax[0,0], widths=0.6, grid=False, by = 'diagnostico')\n",
        "ax[0,0].set_xticklabels(['Não há doença cardíaca','Há doença cardíaca'])\n",
        "ax[0,0].set_ylabel('Anos', fontsize = 12)\n",
        "ax[0,0].set_xlabel('')\n",
        "ax[0,0].set_title('Idade', fontsize=14)\n",
        "fig.suptitle('')\n",
        "\n",
        "# boxplot pressão arterial em repouso\n",
        "df.boxplot(['pressao_arterial'], ax=ax[0,1], widths=0.6, grid=False, by = 'diagnostico')\n",
        "ax[0,1].set_xticklabels(['Não há doença cardíaca','Há doença cardíaca'])\n",
        "ax[0,1].set_ylabel('mm/Hg', fontsize = 12)\n",
        "ax[0,1].set_xlabel('')\n",
        "ax[0,1].set_title('Pressão Arterial em repouso', fontsize=14)\n",
        "fig.suptitle('')\n",
        "\n",
        "# boxplot colestoral sérico\n",
        "df.boxplot(['colestoral_serico'], ax=ax[0,2], widths=0.6, grid=False, by = 'diagnostico')\n",
        "ax[0,2].set_xticklabels(['Não há doença cardíaca','Há doença cardíaca'])\n",
        "ax[0,2].set_ylabel('mg/dl', fontsize = 12)\n",
        "ax[0,2].set_xlabel('')\n",
        "ax[0,2].set_title('Colesterol Sérico', fontsize=14)\n",
        "fig.suptitle('')\n",
        "\n",
        "# boxplot freqüência cardíaca máxima \n",
        "df.boxplot(['freq_cardiaca_max'], ax=ax[1,0], widths=0.6, grid=False, by = 'diagnostico')\n",
        "ax[1,0].set_xticklabels(['Não há doença cardíaca','Há doença cardíaca'])\n",
        "ax[1,0].set_ylabel('bpm', fontsize = 12)\n",
        "ax[1,0].set_xlabel('')\n",
        "ax[1,0].set_title('Frequência Cardíaca máxima', fontsize=14)\n",
        "fig.suptitle('')\n",
        "\n",
        "# boxplot depressão do ST induzida pelo exercício em relação ao repouso \n",
        "df.boxplot(['depressao_ST'], ax=ax[1,1], widths=0.6, grid=False, by = 'diagnostico')\n",
        "ax[1,1].set_xticklabels(['Não há doença cardíaca','Há doença cardíaca'])\n",
        "ax[1,1].set_ylabel('mm', fontsize = 12)\n",
        "ax[1,1].set_xlabel('')\n",
        "ax[1,1].set_title('Depressão do Segmento ST', fontsize=14)\n",
        "fig.suptitle('')\n",
        "\n",
        "# boxplot número de vasos principais (0-3) coloridos por flourosopy\n",
        "df.boxplot(['vasos_principais_coloridos'], ax=ax[1,2], widths=0.6, grid=False, by = 'diagnostico')\n",
        "ax[1,2].set_xticklabels(['Não há doença cardíaca','Há doença cardíaca'])\n",
        "ax[1,2].set_ylabel('Quantidade', fontsize = 12)\n",
        "ax[1,2].set_xlabel('')\n",
        "ax[1,2].set_title('Número de vasos color. por fluoroscopia', fontsize=14)\n",
        "fig.suptitle('')\n",
        "\n",
        "fig.tight_layout();"
      ],
      "execution_count": null,
      "outputs": [
        {
          "output_type": "display_data",
          "data": {
            "image/png": "[encoded data removed]",
            "text/plain": [
              "<Figure size 1152x576 with 6 Axes>"
            ]
          },
          "metadata": {
            "tags": [],
            "needs_background": "light"
          }
        }
      ]
    },
    {
      "cell_type": "markdown",
      "metadata": {
        "id": "bOLH7deqHhmc",
        "colab_type": "text"
      },
      "source": [
        "### Modelos de Machine Learning"
      ]
    },
    {
      "cell_type": "markdown",
      "metadata": {
        "id": "W4BALpdKHmuK",
        "colab_type": "text"
      },
      "source": [
        "Verificando a influência das variáveis independentes na nossa variável alvo(dependente), chegamos a conclusão que serão utilizadas todas as variáveis do dataset, exceto a variável fbs que teve uma correlação igual a zero com a variável diagnóstico."
      ]
    },
    {
      "cell_type": "markdown",
      "metadata": {
        "id": "PVm38k1lIQe_",
        "colab_type": "text"
      },
      "source": [
        "Como os pacientes são divididos em dois grupos na variável alvo, podemos dizer que essa variável é categórica, desta feita, iremos estimar um modelo de classificação."
      ]
    },
    {
      "cell_type": "code",
      "metadata": {
        "id": "mNPUXSvozRVL",
        "colab_type": "code",
        "colab": {}
      },
      "source": [
        "#separando dados de entrada e saída \n",
        "x = df.drop(['diagnostico','acucar_no_sangue'], axis = 1)\n",
        "y = df['diagnostico']"
      ],
      "execution_count": null,
      "outputs": []
    },
    {
      "cell_type": "code",
      "metadata": {
        "id": "57ORA_FiJsIX",
        "colab_type": "code",
        "colab": {
          "base_uri": "https://localhost:8080/",
          "height": 224
        },
        "outputId": "ddec3759-4271-422e-ae8a-681a4df2da2d"
      },
      "source": [
        "x.head()"
      ],
      "execution_count": null,
      "outputs": [
        {
          "output_type": "execute_result",
          "data": {
            "text/html": [
              "<div>\n",
              "<style scoped>\n",
              "    .dataframe tbody tr th:only-of-type {\n",
              "        vertical-align: middle;\n",
              "    }\n",
              "\n",
              "    .dataframe tbody tr th {\n",
              "        vertical-align: top;\n",
              "    }\n",
              "\n",
              "    .dataframe thead th {\n",
              "        text-align: right;\n",
              "    }\n",
              "</style>\n",
              "<table border=\"1\" class=\"dataframe\">\n",
              "  <thead>\n",
              "    <tr style=\"text-align: right;\">\n",
              "      <th></th>\n",
              "      <th>idade</th>\n",
              "      <th>sexo</th>\n",
              "      <th>dor_no_peito</th>\n",
              "      <th>pressao_arterial</th>\n",
              "      <th>colestoral_serico</th>\n",
              "      <th>eletrocardiograficos</th>\n",
              "      <th>freq_cardiaca_max</th>\n",
              "      <th>angina</th>\n",
              "      <th>depressao_ST</th>\n",
              "      <th>inclinacao</th>\n",
              "      <th>vasos_principais_coloridos</th>\n",
              "      <th>thal</th>\n",
              "    </tr>\n",
              "  </thead>\n",
              "  <tbody>\n",
              "    <tr>\n",
              "      <th>0</th>\n",
              "      <td>63.0</td>\n",
              "      <td>1.0</td>\n",
              "      <td>1.0</td>\n",
              "      <td>145.0</td>\n",
              "      <td>233.0</td>\n",
              "      <td>2.0</td>\n",
              "      <td>150.0</td>\n",
              "      <td>0.0</td>\n",
              "      <td>2.3</td>\n",
              "      <td>3.0</td>\n",
              "      <td>0.0</td>\n",
              "      <td>6.0</td>\n",
              "    </tr>\n",
              "    <tr>\n",
              "      <th>1</th>\n",
              "      <td>67.0</td>\n",
              "      <td>1.0</td>\n",
              "      <td>4.0</td>\n",
              "      <td>160.0</td>\n",
              "      <td>286.0</td>\n",
              "      <td>2.0</td>\n",
              "      <td>108.0</td>\n",
              "      <td>1.0</td>\n",
              "      <td>1.5</td>\n",
              "      <td>2.0</td>\n",
              "      <td>3.0</td>\n",
              "      <td>3.0</td>\n",
              "    </tr>\n",
              "    <tr>\n",
              "      <th>2</th>\n",
              "      <td>67.0</td>\n",
              "      <td>1.0</td>\n",
              "      <td>4.0</td>\n",
              "      <td>120.0</td>\n",
              "      <td>229.0</td>\n",
              "      <td>2.0</td>\n",
              "      <td>129.0</td>\n",
              "      <td>1.0</td>\n",
              "      <td>2.6</td>\n",
              "      <td>2.0</td>\n",
              "      <td>2.0</td>\n",
              "      <td>7.0</td>\n",
              "    </tr>\n",
              "    <tr>\n",
              "      <th>3</th>\n",
              "      <td>37.0</td>\n",
              "      <td>1.0</td>\n",
              "      <td>3.0</td>\n",
              "      <td>130.0</td>\n",
              "      <td>250.0</td>\n",
              "      <td>0.0</td>\n",
              "      <td>187.0</td>\n",
              "      <td>0.0</td>\n",
              "      <td>3.5</td>\n",
              "      <td>3.0</td>\n",
              "      <td>0.0</td>\n",
              "      <td>3.0</td>\n",
              "    </tr>\n",
              "    <tr>\n",
              "      <th>4</th>\n",
              "      <td>41.0</td>\n",
              "      <td>0.0</td>\n",
              "      <td>2.0</td>\n",
              "      <td>130.0</td>\n",
              "      <td>204.0</td>\n",
              "      <td>2.0</td>\n",
              "      <td>172.0</td>\n",
              "      <td>0.0</td>\n",
              "      <td>1.4</td>\n",
              "      <td>1.0</td>\n",
              "      <td>0.0</td>\n",
              "      <td>3.0</td>\n",
              "    </tr>\n",
              "  </tbody>\n",
              "</table>\n",
              "</div>"
            ],
            "text/plain": [
              "   idade  sexo  dor_no_peito  ...  inclinacao  vasos_principais_coloridos  thal\n",
              "0   63.0   1.0           1.0  ...         3.0                         0.0   6.0\n",
              "1   67.0   1.0           4.0  ...         2.0                         3.0   3.0\n",
              "2   67.0   1.0           4.0  ...         2.0                         2.0   7.0\n",
              "3   37.0   1.0           3.0  ...         3.0                         0.0   3.0\n",
              "4   41.0   0.0           2.0  ...         1.0                         0.0   3.0\n",
              "\n",
              "[5 rows x 12 columns]"
            ]
          },
          "metadata": {
            "tags": []
          },
          "execution_count": 23
        }
      ]
    },
    {
      "cell_type": "code",
      "metadata": {
        "id": "VLSLsHqJzRuv",
        "colab_type": "code",
        "colab": {
          "base_uri": "https://localhost:8080/",
          "height": 119
        },
        "outputId": "57b81fc0-18bd-4def-b649-ba6db0bef82b"
      },
      "source": [
        "y.head()"
      ],
      "execution_count": null,
      "outputs": [
        {
          "output_type": "execute_result",
          "data": {
            "text/plain": [
              "0    0\n",
              "1    1\n",
              "2    1\n",
              "3    0\n",
              "4    0\n",
              "Name: diagnostico, dtype: int64"
            ]
          },
          "metadata": {
            "tags": []
          },
          "execution_count": 24
        }
      ]
    },
    {
      "cell_type": "code",
      "metadata": {
        "id": "OdcKWFkP7dnK",
        "colab_type": "code",
        "colab": {}
      },
      "source": [
        "#separando dados entre treino e teste \n",
        "from sklearn.model_selection import train_test_split\n",
        "\n",
        "SEED = 20\n",
        "np.random.seed(SEED)\n",
        "\n",
        "X_train, X_test, y_train, y_test = train_test_split(x, y, test_size = 0.20, stratify = y)\n",
        "\n",
        "print('O dataset de treino possui {}  e o de treino {}.'.format(X_train.shape[0], X_test.shape[0]))"
      ],
      "execution_count": null,
      "outputs": []
    },
    {
      "cell_type": "code",
      "metadata": {
        "id": "DJzsqiN2L7ju",
        "colab_type": "code",
        "colab": {}
      },
      "source": [
        "#instanciando modelos \n",
        "\n",
        "from sklearn.svm import SVC\n",
        "from sklearn.linear_model import LogisticRegression\n",
        "from sklearn.ensemble import RandomForestClassifier\n",
        "from sklearn.multiclass import OneVsRestClassifier\n",
        "from sklearn.svm import LinearSVC\n",
        "from sklearn.multiclass import OneVsOneClassifier\n",
        "from sklearn.naive_bayes import MultinomialNB\n",
        "from sklearn.ensemble import AdaBoostClassifier\n",
        "from sklearn.dummy import DummyClassifier  #é um classificador bobo. baseline\n",
        "from sklearn.tree import DecisionTreeClassifier"
      ],
      "execution_count": null,
      "outputs": []
    },
    {
      "cell_type": "code",
      "metadata": {
        "id": "0RrS6SDKKpLn",
        "colab_type": "code",
        "colab": {}
      },
      "source": [
        "#validação cruzada\n",
        "from sklearn.model_selection import cross_val_score\n",
        "from sklearn.model_selection import KFold\n",
        "\n",
        "cv = KFold(n_splits = 5, shuffle = True)#misturando um pouco mais as informações "
      ],
      "execution_count": null,
      "outputs": []
    },
    {
      "cell_type": "code",
      "metadata": {
        "id": "rT0wWG4cV-1Z",
        "colab_type": "code",
        "colab": {}
      },
      "source": [
        "def fit_and_predict(nome, modelo, x, y):\n",
        "    scores = cross_val_score(modelo, x, y, cv=cv)\n",
        "    taxa_de_acerto = np.mean(scores)\n",
        "    msg = \"Taxa de acerto do {0}: {1}\".format(nome, taxa_de_acerto)\n",
        "    print(msg)\n",
        "    return taxa_de_acerto"
      ],
      "execution_count": null,
      "outputs": []
    },
    {
      "cell_type": "code",
      "metadata": {
        "id": "fqwTI3vWZ2ns",
        "colab_type": "code",
        "colab": {
          "base_uri": "https://localhost:8080/",
          "height": 1000
        },
        "outputId": "a4f6297c-c3c4-4164-b4a1-22e6bef67888"
      },
      "source": [
        "resultados = {}\n",
        "\n",
        "#OneVsRest\n",
        "modeloOneVsRest = OneVsRestClassifier(LinearSVC(random_state=0))\n",
        "resultadoOneVsRest = fit_and_predict(\"OneVsRest\", modeloOneVsRest, x, y)\n",
        "resultados[resultadoOneVsRest] = modeloOneVsRest\n",
        "\n",
        "\n",
        "#OneVsOne\n",
        "\n",
        "modeloOneVsOne = OneVsOneClassifier(LinearSVC(random_state=0))\n",
        "resultadoOneVsOne = fit_and_predict(\"OneVsOne\", modeloOneVsOne, x, y)\n",
        "resultados[resultadoOneVsOne] = modeloOneVsOne\n",
        "\n",
        "#MultinomialNB\n",
        "\n",
        "modeloMultinomial = MultinomialNB()\n",
        "resultadoMultinomial = fit_and_predict(\"MultinomialNB\", modeloMultinomial, x, y)\n",
        "resultados[resultadoMultinomial] = modeloMultinomial\n",
        "\n",
        "#AdaBoostClassifier\n",
        "\n",
        "modeloAdaBoost = AdaBoostClassifier(random_state=0)\n",
        "resultadoAdaBoost = fit_and_predict(\"AdaBoostClassifier\", modeloAdaBoost, x, y)\n",
        "resultados[resultadoAdaBoost] = modeloAdaBoost\n",
        "\n",
        "#Árvore de Decisão\n",
        "\n",
        "modeloArvoreDecisao = DecisionTreeClassifier(max_depth=3)\n",
        "resultadoArvoreDecisao = fit_and_predict(\"DecisionTree\", modeloArvoreDecisao, x, y)\n",
        "resultados[resultadoArvoreDecisao] = modeloArvoreDecisao\n",
        "\n",
        "#SVC\n",
        "modeloSVC = SVC()\n",
        "resultadoSVC = fit_and_predict(\"SVC\", modeloSVC, x, y)\n",
        "resultados[resultadoSVC] = modeloSVC\n",
        "\n",
        "#Regressão Logística  \n",
        "\n",
        "modeloRLog = LogisticRegression(solver='liblinear') #mais indicada para datasets menores.\n",
        "resultadoRLog = fit_and_predict(\"LogisticRegression\", modeloRLog, x, y)\n",
        "resultados[resultadoRLog] = modeloRLog\n",
        "\n",
        "#Floresta Randômica\n",
        "modeloRand = RandomForestClassifier(n_estimators=100)\n",
        "resultadoRand = fit_and_predict(\"RandomForest\", modeloRand, x, y)\n",
        "resultados[resultadoRand] = modeloRand\n",
        "\n",
        "#Modelo Bobo\n",
        "\n",
        "modeloBobo = DummyClassifier()\n",
        "resultadoBobo = fit_and_predict(\"DummyClassifier\", modeloBobo, x, y)\n",
        "resultados[resultadoBobo] = modeloBobo\n",
        "\n",
        "\n",
        "print(resultados)\n",
        "\n",
        "maximo = max(resultados)\n",
        "vencedor = resultados[maximo]\n",
        "\n",
        "print(\"Vencerdor: \")\n",
        "print(vencedor)"
      ],
      "execution_count": null,
      "outputs": [
        {
          "output_type": "stream",
          "text": [
            "/usr/local/lib/python3.6/dist-packages/sklearn/svm/_base.py:947: ConvergenceWarning: Liblinear failed to converge, increase the number of iterations.\n",
            "  \"the number of iterations.\", ConvergenceWarning)\n",
            "/usr/local/lib/python3.6/dist-packages/sklearn/svm/_base.py:947: ConvergenceWarning: Liblinear failed to converge, increase the number of iterations.\n",
            "  \"the number of iterations.\", ConvergenceWarning)\n",
            "/usr/local/lib/python3.6/dist-packages/sklearn/svm/_base.py:947: ConvergenceWarning: Liblinear failed to converge, increase the number of iterations.\n",
            "  \"the number of iterations.\", ConvergenceWarning)\n",
            "/usr/local/lib/python3.6/dist-packages/sklearn/svm/_base.py:947: ConvergenceWarning: Liblinear failed to converge, increase the number of iterations.\n",
            "  \"the number of iterations.\", ConvergenceWarning)\n",
            "/usr/local/lib/python3.6/dist-packages/sklearn/svm/_base.py:947: ConvergenceWarning: Liblinear failed to converge, increase the number of iterations.\n",
            "  \"the number of iterations.\", ConvergenceWarning)\n",
            "/usr/local/lib/python3.6/dist-packages/sklearn/svm/_base.py:947: ConvergenceWarning: Liblinear failed to converge, increase the number of iterations.\n",
            "  \"the number of iterations.\", ConvergenceWarning)\n",
            "/usr/local/lib/python3.6/dist-packages/sklearn/svm/_base.py:947: ConvergenceWarning: Liblinear failed to converge, increase the number of iterations.\n",
            "  \"the number of iterations.\", ConvergenceWarning)\n",
            "/usr/local/lib/python3.6/dist-packages/sklearn/svm/_base.py:947: ConvergenceWarning: Liblinear failed to converge, increase the number of iterations.\n",
            "  \"the number of iterations.\", ConvergenceWarning)\n",
            "/usr/local/lib/python3.6/dist-packages/sklearn/svm/_base.py:947: ConvergenceWarning: Liblinear failed to converge, increase the number of iterations.\n",
            "  \"the number of iterations.\", ConvergenceWarning)\n",
            "/usr/local/lib/python3.6/dist-packages/sklearn/svm/_base.py:947: ConvergenceWarning: Liblinear failed to converge, increase the number of iterations.\n",
            "  \"the number of iterations.\", ConvergenceWarning)\n"
          ],
          "name": "stderr"
        },
        {
          "output_type": "stream",
          "text": [
            "Taxa de acerto do OneVsRest: 0.7641242937853108\n",
            "Taxa de acerto do OneVsOne: 0.7644067796610169\n",
            "Taxa de acerto do MultinomialNB: 0.761186440677966\n",
            "Taxa de acerto do AdaBoostClassifier: 0.8218079096045198\n",
            "Taxa de acerto do DecisionTree: 0.7645197740112994\n",
            "Taxa de acerto do SVC: 0.6466666666666667\n",
            "Taxa de acerto do LogisticRegression: 0.8415819209039548\n",
            "Taxa de acerto do RandomForest: 0.8080790960451978\n",
            "Taxa de acerto do DummyClassifier: 0.5214124293785312\n",
            "{0.7641242937853108: OneVsRestClassifier(estimator=LinearSVC(C=1.0, class_weight=None, dual=True,\n",
            "                                        fit_intercept=True, intercept_scaling=1,\n",
            "                                        loss='squared_hinge', max_iter=1000,\n",
            "                                        multi_class='ovr', penalty='l2',\n",
            "                                        random_state=0, tol=0.0001, verbose=0),\n",
            "                    n_jobs=None), 0.7644067796610169: OneVsOneClassifier(estimator=LinearSVC(C=1.0, class_weight=None, dual=True,\n",
            "                                       fit_intercept=True, intercept_scaling=1,\n",
            "                                       loss='squared_hinge', max_iter=1000,\n",
            "                                       multi_class='ovr', penalty='l2',\n",
            "                                       random_state=0, tol=0.0001, verbose=0),\n",
            "                   n_jobs=None), 0.761186440677966: MultinomialNB(alpha=1.0, class_prior=None, fit_prior=True), 0.8218079096045198: AdaBoostClassifier(algorithm='SAMME.R', base_estimator=None, learning_rate=1.0,\n",
            "                   n_estimators=50, random_state=0), 0.7645197740112994: DecisionTreeClassifier(ccp_alpha=0.0, class_weight=None, criterion='gini',\n",
            "                       max_depth=3, max_features=None, max_leaf_nodes=None,\n",
            "                       min_impurity_decrease=0.0, min_impurity_split=None,\n",
            "                       min_samples_leaf=1, min_samples_split=2,\n",
            "                       min_weight_fraction_leaf=0.0, presort='deprecated',\n",
            "                       random_state=None, splitter='best'), 0.6466666666666667: SVC(C=1.0, break_ties=False, cache_size=200, class_weight=None, coef0=0.0,\n",
            "    decision_function_shape='ovr', degree=3, gamma='scale', kernel='rbf',\n",
            "    max_iter=-1, probability=False, random_state=None, shrinking=True,\n",
            "    tol=0.001, verbose=False), 0.8415819209039548: LogisticRegression(C=1.0, class_weight=None, dual=False, fit_intercept=True,\n",
            "                   intercept_scaling=1, l1_ratio=None, max_iter=100,\n",
            "                   multi_class='auto', n_jobs=None, penalty='l2',\n",
            "                   random_state=None, solver='liblinear', tol=0.0001, verbose=0,\n",
            "                   warm_start=False), 0.8080790960451978: RandomForestClassifier(bootstrap=True, ccp_alpha=0.0, class_weight=None,\n",
            "                       criterion='gini', max_depth=None, max_features='auto',\n",
            "                       max_leaf_nodes=None, max_samples=None,\n",
            "                       min_impurity_decrease=0.0, min_impurity_split=None,\n",
            "                       min_samples_leaf=1, min_samples_split=2,\n",
            "                       min_weight_fraction_leaf=0.0, n_estimators=100,\n",
            "                       n_jobs=None, oob_score=False, random_state=None,\n",
            "                       verbose=0, warm_start=False), 0.5214124293785312: DummyClassifier(constant=None, random_state=None, strategy='warn')}\n",
            "Vencerdor: \n",
            "LogisticRegression(C=1.0, class_weight=None, dual=False, fit_intercept=True,\n",
            "                   intercept_scaling=1, l1_ratio=None, max_iter=100,\n",
            "                   multi_class='auto', n_jobs=None, penalty='l2',\n",
            "                   random_state=None, solver='liblinear', tol=0.0001, verbose=0,\n",
            "                   warm_start=False)\n"
          ],
          "name": "stdout"
        },
        {
          "output_type": "stream",
          "text": [
            "/usr/local/lib/python3.6/dist-packages/sklearn/dummy.py:132: FutureWarning: The default value of strategy will change from stratified to prior in 0.24.\n",
            "  \"stratified to prior in 0.24.\", FutureWarning)\n"
          ],
          "name": "stderr"
        }
      ]
    },
    {
      "cell_type": "markdown",
      "metadata": {
        "id": "5L8GpTdKeYt-",
        "colab_type": "text"
      },
      "source": [
        "Pelos resultados temos que o modelo de regressão logística produz os melhores resultados. Então vamos ver como nosso modelo irá se sair com novos dados (dados teste)."
      ]
    },
    {
      "cell_type": "code",
      "metadata": {
        "id": "xdHQuj1be5uz",
        "colab_type": "code",
        "colab": {}
      },
      "source": [
        "def teste_real(modelo, X_test, y_test):\n",
        "    resultado = modelo.predict(X_test)\n",
        "\n",
        "    acertos = resultado == y_test\n",
        "\n",
        "    total_de_acertos = sum(acertos)\n",
        "    total_de_elementos = len(y_test)\n",
        "\n",
        "    taxa_de_acerto = 100.0 * total_de_acertos / total_de_elementos\n",
        "\n",
        "    msg = \"Taxa de acerto do vencedor entre os algoritmos no mundo real: {0}\".format(taxa_de_acerto)\n",
        "    print(msg)"
      ],
      "execution_count": null,
      "outputs": []
    },
    {
      "cell_type": "code",
      "metadata": {
        "id": "ZQLt92i7aakt",
        "colab_type": "code",
        "colab": {
          "base_uri": "https://localhost:8080/",
          "height": 51
        },
        "outputId": "06bc2108-fc9b-4c71-8a05-a1c15452f252"
      },
      "source": [
        "vencedor.fit(X_train, y_train)\n",
        "\n",
        "teste_real(vencedor, X_test, y_test)\n",
        "\n",
        "total_de_elementos = len(X_test)\n",
        "print(\"Total de teste: %d\" % total_de_elementos)"
      ],
      "execution_count": null,
      "outputs": [
        {
          "output_type": "stream",
          "text": [
            "Taxa de acerto do vencedor entre os algoritmos no mundo real: 86.66666666666667\n",
            "Total de teste: 60\n"
          ],
          "name": "stdout"
        }
      ]
    },
    {
      "cell_type": "markdown",
      "metadata": {
        "id": "qcLJFpGXDSAk",
        "colab_type": "text"
      },
      "source": [
        "## Outras métricas "
      ]
    },
    {
      "cell_type": "code",
      "metadata": {
        "id": "GekI2lYvaytR",
        "colab_type": "code",
        "colab": {}
      },
      "source": [
        "from sklearn.metrics import classification_report, confusion_matrix, roc_auc_score, roc_curve, accuracy_score"
      ],
      "execution_count": null,
      "outputs": []
    },
    {
      "cell_type": "code",
      "metadata": {
        "id": "KJntWWboCazg",
        "colab_type": "code",
        "colab": {}
      },
      "source": [
        "y_pred = modeloRLog.predict(X_test)\n",
        "y_prob = modeloRLog.predict_proba(X_test)"
      ],
      "execution_count": null,
      "outputs": []
    },
    {
      "cell_type": "code",
      "metadata": {
        "id": "apfe0n_9DTZq",
        "colab_type": "code",
        "colab": {
          "base_uri": "https://localhost:8080/",
          "height": 255
        },
        "outputId": "651691cd-c988-4d47-e491-d8b6a40e6dde"
      },
      "source": [
        "# imprimir relatório de classificação\n",
        "print(\"Relatório de Classificação:\\n\", classification_report(y_test, y_pred, digits=4))\n",
        " \n",
        "# imprimir a acurácia do modelo\n",
        "print(\"Acurácia: {:.4f}\\n\".format(accuracy_score(y_test, y_pred)))\n",
        " \n",
        "# imprimir a área sob a curva\n",
        "print(\"AUC: {:.4f}\\n\".format(roc_auc_score(y_test,y_prob[:,1])))"
      ],
      "execution_count": null,
      "outputs": [
        {
          "output_type": "stream",
          "text": [
            "Relatório de Classificação:\n",
            "               precision    recall  f1-score   support\n",
            "\n",
            "           0     0.9000    0.8438    0.8710        32\n",
            "           1     0.8333    0.8929    0.8621        28\n",
            "\n",
            "    accuracy                         0.8667        60\n",
            "   macro avg     0.8667    0.8683    0.8665        60\n",
            "weighted avg     0.8689    0.8667    0.8668        60\n",
            "\n",
            "Acurácia: 0.8667\n",
            "\n",
            "AUC: 0.9062\n",
            "\n"
          ],
          "name": "stdout"
        }
      ]
    },
    {
      "cell_type": "code",
      "metadata": {
        "id": "ta7N9SOODoKK",
        "colab_type": "code",
        "colab": {
          "base_uri": "https://localhost:8080/",
          "height": 297
        },
        "outputId": "09dc89be-2b48-455b-c0ac-c7edcbe014c8"
      },
      "source": [
        "fig, ax = plt.subplots()\n",
        "sns.heatmap(confusion_matrix(y_test, y_pred), annot=True, ax=ax)\n",
        "\n",
        "ax.set_title(\"Matriz de Confusão\", fontsize=18)\n",
        "ax.set_ylabel(\"True label\")\n",
        "ax.set_xlabel(\"Predicted Label\")\n",
        "\n",
        "plt.tight_layout()"
      ],
      "execution_count": null,
      "outputs": [
        {
          "output_type": "display_data",
          "data": {
            "image/png": "[encoded data removed]",
            "text/plain": [
              "<Figure size 432x288 with 2 Axes>"
            ]
          },
          "metadata": {
            "tags": [],
            "needs_background": "light"
          }
        }
      ]
    },
    {
      "cell_type": "markdown",
      "metadata": {
        "id": "Y0WExSXpD0fy",
        "colab_type": "text"
      },
      "source": [
        "A matriz de confusão informa que:\n",
        "\n",
        "\n",
        "\n",
        "*   O modelo previu corretamente 27 casos de pacientes que não foram diagnosticados com doença cardíaca.\n",
        "\n",
        "*   O modelo previu corretamente 25 casos de pacientes que foram diagnosticados com doença cardíaca.\n",
        "\n",
        "*   O modelo previu que 3 pacientes não teriam doença cardiaca, mas eles possuem doença cardíaca.\n",
        "\n",
        "*   O modelo previu que 5 pacientes teriam doença cardiaca, mas eles não tem doença cardíaca.\n",
        "\n",
        "Pelos resultados, nosso modelo tem uma acurácia de, aproximadamente, 87%, enquanto a AUC é de 0.91. E podemos concluir que o modelo é globalmente bem ajustado e que ambas as características, ter ou não doença cardíaca, são previstas de maneira satisfatória."
      ]
    },
    {
      "cell_type": "markdown",
      "metadata": {
        "id": "PY13lY20Bttz",
        "colab_type": "text"
      },
      "source": [
        "# Realizando previsões"
      ]
    },
    {
      "cell_type": "code",
      "metadata": {
        "id": "9PNTzsFiGVSf",
        "colab_type": "code",
        "colab": {
          "base_uri": "https://localhost:8080/",
          "height": 102
        },
        "outputId": "bba3abf1-510e-47d5-cef1-375fe20552b6"
      },
      "source": [
        "x.columns"
      ],
      "execution_count": null,
      "outputs": [
        {
          "output_type": "execute_result",
          "data": {
            "text/plain": [
              "Index(['idade', 'sexo', 'dor_no_peito', 'pressao_arterial',\n",
              "       'colestoral_serico', 'eletrocardiograficos', 'freq_cardiaca_max',\n",
              "       'angina', 'depressao_ST', 'inclinacao', 'vasos_principais_coloridos',\n",
              "       'thal'],\n",
              "      dtype='object')"
            ]
          },
          "metadata": {
            "tags": []
          },
          "execution_count": 26
        }
      ]
    },
    {
      "cell_type": "code",
      "metadata": {
        "id": "At2kB0s5B555",
        "colab_type": "code",
        "colab": {}
      },
      "source": [
        "idade = 25.0\n",
        "sexo = 0.0\n",
        "dor_no_peito = 4.0\n",
        "pressao_arterial = 90.0\n",
        "colestoral_serico = 50.0\n",
        "eletrocardiograficos = 2.0\n",
        "freq_cardiaca_max = 150.0\t\n",
        "angina = 0.0\n",
        "depressao_ST = 0.0\n",
        "inclinacao = 1.0\n",
        "vasos_principais_coloridos = 0.0\n",
        "thal = 5.0\n",
        "entrada = [[idade, sexo, dor_no_peito, pressao_arterial, colestoral_serico, eletrocardiograficos, freq_cardiaca_max, angina, depressao_ST, inclinacao, \n",
        "            vasos_principais_coloridos, thal]]\n",
        "\n",
        "print('Previsão: {}'.format(modeloRLog.predict(entrada)[0]))"
      ],
      "execution_count": null,
      "outputs": []
    },
    {
      "cell_type": "markdown",
      "metadata": {
        "id": "vg9cMrncBxNV",
        "colab_type": "text"
      },
      "source": [
        "# Criando simulador interativo"
      ]
    },
    {
      "cell_type": "code",
      "metadata": {
        "id": "0TmMQUqc-AYm",
        "colab_type": "code",
        "colab": {}
      },
      "source": [
        "from ipywidgets import widgets, HBox, VBox, Layout, Label\n",
        "from IPython.display import  display\n",
        "\n",
        "style = {'description_width': '150px'}\n",
        "style1 = {'description_width': '210px'}\n",
        "style2 = {'description_width': '230px'}\n",
        "layout = {'width': '400px'}\n",
        "\n",
        "# Criando os controles do formulário\n",
        "idade = widgets.Text(description=\"Idade (anos):\", style=style, layout=layout)\n",
        "\n",
        "sexo = widgets.RadioButtons(\n",
        "    options=[('Homem', 1), ('Mulher', 0)],\n",
        "    description='Sexo:',\n",
        "    disabled=False, style=style)\n",
        "\n",
        "\n",
        "dor_no_peito = widgets.RadioButtons(\n",
        "    options=[('Angina', 1), ('Angina atípica', 2),('Dor não cardíaca', 3), ('Sem sintomas', 4)],\n",
        "    description='Tipo de dor torácica:',\n",
        "    disabled=False, style=style)\n",
        "\n",
        "\n",
        "pressao_arterial = widgets.Text(description=\"Pressão arterial (mm/Hg):\", style=style, layout=layout)\n",
        "\n",
        "colestoral_serico = widgets.Text(description=\"Colesterol (mg/dl):\", layout=layout, style=style)\n",
        "\n",
        "eletrocardiograficos = widgets.RadioButtons(\n",
        "    options=[('Normal', 0), ('Anormalidade do ST-T', 1),('Hipertrofia ventricular', 2)],\n",
        "    description='Eletrocardiografia:',\n",
        "    disabled=False, style=style, layout=layout\n",
        ")\n",
        "\n",
        "freq_cardiaca_max = widgets.Text(description=\"Frequência cardíaca (bpm):\" , style=style1, layout=layout)\n",
        "\n",
        "angina = widgets.RadioButtons(\n",
        "    options=[('Não', 0), ('Sim', 1)],\n",
        "    description='Angina após exercício:',\n",
        "    disabled=False, style=style, layout=layout\n",
        ")\n",
        "\n",
        "depressao_ST = widgets.Text(description=\"Depressão do Segmento ST (mm):\", style=style1, layout=layout)\n",
        "\n",
        "inclinacao = widgets.RadioButtons(\n",
        "    options=[('Ascendente', 1), ('Plana', 2), ('Descendente',3)],\n",
        "    description='Inclinação do segmento ST-T:',\n",
        "    disabled=False , style=style1, layout=layout)\n",
        "\n",
        "\n",
        "vasos_principais_coloridos = widgets.Text(description=\"Vasos color. por fluoroscopia (quant.):\", style=style2, layout=layout)\n",
        "\n",
        "thal = widgets.RadioButtons(\n",
        "    options=[('Normal', 3), ('Defeito fixo', 6), ('Defeito reversível',7)],\n",
        "    description='Teste de stress cardíaco:',\n",
        "    disabled=False, style=style\n",
        ")\n",
        "\n",
        "botao = widgets.Button(description=\"Simular\") \n",
        "\n",
        "left = VBox([idade, pressao_arterial, colestoral_serico, freq_cardiaca_max, depressao_ST, vasos_principais_coloridos, inclinacao], layout=Layout(width='50%'))\n",
        "right = VBox([sexo, angina, thal, dor_no_peito, eletrocardiograficos])\n",
        "inputs = HBox([left, right])\n",
        "\n",
        "\n",
        "# Função de simulação\n",
        "def simulador(sender):\n",
        "    entrada=[[\n",
        "                float(idade.value if idade.value else 0), \n",
        "                float(sexo.value if sexo.value else 0), \n",
        "                float(dor_no_peito.value if dor_no_peito.value else 0), \n",
        "                float(pressao_arterial.value if pressao_arterial.value else 0), \n",
        "                float(colestoral_serico.value if colestoral_serico.value else 0), \n",
        "                float(eletrocardiograficos.value if eletrocardiograficos.value else 0),\n",
        "                float(freq_cardiaca_max.value if freq_cardiaca_max.value else 0), \n",
        "                float(angina.value if angina.value else 0), \n",
        "                float(depressao_ST.value if depressao_ST.value else 0), \n",
        "                float(inclinacao.value if inclinacao.value else 0), \n",
        "                float(vasos_principais_coloridos.value if vasos_principais_coloridos.value else 0), \n",
        "                float(thal.value if thal.value else 0)\n",
        "             ]]\n",
        "    valor = modeloRLog.predict(entrada)[0]\n",
        "    if valor == 0:\n",
        "      diagn =  'Sem diagnóstico de doença cardiovascular.'\n",
        "    else:\n",
        "      diagn = 'Com diagnóstico de doença cardiovascular.'\n",
        "    print('Previsão: {}\\n'.format(diagn))\n",
        "    print('Probabilidade: {}%'.format(float(((modeloRLog.predict_proba(entrada)[:,valor])*100).round(3))))\n",
        "# Atribuindo a função \"simulador\" ao evento click do botão\n",
        "botao.on_click(simulador)\n"
      ],
      "execution_count": null,
      "outputs": []
    },
    {
      "cell_type": "code",
      "metadata": {
        "id": "B8QeS9cX-ARa",
        "colab_type": "code",
        "colab": {
          "base_uri": "https://localhost:8080/",
          "height": 465,
          "referenced_widgets": [
            "bce47470a3e449a2a565ce6e348c0947",
            "eeb9c002da304690a32b0db58c4fc6ce",
            "7679beeadf8e48989b515d531e6213ca",
            "47f1601c32f44642ac1ddc17da0a1423",
            "1cf6cb237905453b8089cfbfa3fe4354",
            "ba0142f98e164dbe9f03a4a5e95827db",
            "b43a5eda4fa84902b642c8e5912ec9db",
            "2d2a7a48362846e0a015becf1963eae0",
            "9e45665342774f85894f79ec1a55a6f1",
            "914032a546ee48d4a6e21bad749a878d",
            "c20d289e6c6f4d66b7fa85c0b03e4922",
            "75018fc5f23846f5bdc144fe91a394ab",
            "91e538d27ac94aef9e6261bb4faa2ed7",
            "57cddbc1bf4d4c6eb86e8ff933f95ecb",
            "d01adf0b334543d8919f16d39660f373",
            "a64c5c532b0d44d9a46acb4dce80d2c1",
            "d6b4af3f1dc44ba094386bff6ca1b187",
            "eafcb43c3a8b423baf4f3da3d10fb339",
            "d2039000b8fc4c6da0ec9a15e300743e",
            "8a33d1686d734e9ea85ba289bf140f31",
            "a53d88b279f84a8986ac08dc4db4c6ef",
            "7f2df7fdf94e4e678c51f58ec740ec18",
            "7797ffbeef094a668f9bf4cf7c7e3b2c",
            "cf8c476da21a4c27ab81ac984e2acb59",
            "3659139c18cf4220900e23faacaa173b",
            "2a6287d8eb884cedaa28d91c1986e0c4",
            "a5dc4373f7234742934981963566b573",
            "ae35af57caab49bf9d3cc0f60a62ba82",
            "f107b95af22f4694949564168d838fbb",
            "7b3ca34cbe1044588459b0e241fd2d84",
            "4d03250ea44348d09eb0eb18c95f440b",
            "c96eca8016af4ca1ae7d53d5022bf979",
            "d629ba5874204de698942bb6685a83d5",
            "f814fe4204424e779d0d1f961edd8a2c",
            "4349c72965254af7b6673f9c5f1e31e9",
            "dd19d9ff77d04a6daf2a0c739a878042",
            "d9183060da9547f381a87e161fcdfcb9",
            "1a598a19d3824527ad3d7f2fe97b0cc4",
            "f955a193ec59422fa154d066df280a9c",
            "50f0056293444720bff761619c06e561",
            "b7be721971df46189f12020a857b4657",
            "0205b1da3f7b47678773b1c1c3114616",
            "f389c1f871aa4200876bad954335b7ef",
            "9df2e2d1df544fb3a8a3fbbb14ab40f1",
            "ad8b111aa8564d389d567fcc46382277"
          ]
        },
        "outputId": "37c15b0a-23d8-44d4-990f-ecfcc2cd5505"
      },
      "source": [
        "display(inputs, botao)"
      ],
      "execution_count": null,
      "outputs": [
        {
          "output_type": "display_data",
          "data": {
            "application/vnd.jupyter.widget-view+json": {
              "model_id": "bce47470a3e449a2a565ce6e348c0947",
              "version_minor": 0,
              "version_major": 2
            },
            "text/plain": [
              "HBox(children=(VBox(children=(Text(value='', description='Idade (anos):', layout=Layout(width='400px'), style=…"
            ]
          },
          "metadata": {
            "tags": []
          }
        },
        {
          "output_type": "display_data",
          "data": {
            "application/vnd.jupyter.widget-view+json": {
              "model_id": "f389c1f871aa4200876bad954335b7ef",
              "version_minor": 0,
              "version_major": 2
            },
            "text/plain": [
              "Button(description='Simular', style=ButtonStyle())"
            ]
          },
          "metadata": {
            "tags": []
          }
        }
      ]
    }
  ]
}